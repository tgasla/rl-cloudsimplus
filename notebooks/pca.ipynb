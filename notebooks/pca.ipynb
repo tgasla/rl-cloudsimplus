{
 "cells": [
  {
   "cell_type": "code",
   "execution_count": 1,
   "metadata": {},
   "outputs": [],
   "source": [
    "import numpy as np\n",
    "from sklearn.decomposition import PCA\n",
    "from sklearn.metrics import mean_squared_error"
   ]
  },
  {
   "cell_type": "code",
   "execution_count": 8,
   "metadata": {},
   "outputs": [
    {
     "name": "stdout",
     "output_type": "stream",
     "text": [
      "PCA Reconstruction RMSE: 0.0221346242\n"
     ]
    }
   ],
   "source": [
    "import numpy as np\n",
    "import pandas as pd\n",
    "from sklearn.decomposition import PCA\n",
    "from sklearn.metrics import mean_squared_error\n",
    "\n",
    "# Load data from CSV\n",
    "data = np.loadtxt(\"train_data.csv\", delimiter=\",\")  # Assumes no headers or indices\n",
    "\n",
    "# Split into training (80%) and validation (20%) datasets\n",
    "train_size = int(0.8 * len(data))\n",
    "train_data = data[:train_size]\n",
    "valid_data = data[train_size:]\n",
    "\n",
    "# Set the number of principal components (latent dimensions)\n",
    "latent_dim = 64  # Adjust to match your autoencoder's latent size\n",
    "\n",
    "# Fit PCA on the training data\n",
    "pca = PCA(n_components=latent_dim)\n",
    "pca.fit(train_data)\n",
    "\n",
    "# Reconstruct the validation data\n",
    "valid_data_reduced = pca.transform(valid_data)  # Compress to latent dimensions\n",
    "valid_data_reconstructed = pca.inverse_transform(\n",
    "    valid_data_reduced\n",
    ")  # Reconstruct from latent space\n",
    "\n",
    "# Calculate RMSE for PCA reconstruction on the validation dataset\n",
    "rmse = np.sqrt(mean_squared_error(valid_data, valid_data_reconstructed))\n",
    "print(f\"PCA Reconstruction RMSE: {rmse:.10f}\")\n"
   ]
  }
 ],
 "metadata": {
  "kernelspec": {
   "display_name": "Python 3",
   "language": "python",
   "name": "python3"
  },
  "language_info": {
   "codemirror_mode": {
    "name": "ipython",
    "version": 3
   },
   "file_extension": ".py",
   "mimetype": "text/x-python",
   "name": "python",
   "nbconvert_exporter": "python",
   "pygments_lexer": "ipython3",
   "version": "3.10.12"
  }
 },
 "nbformat": 4,
 "nbformat_minor": 2
}
