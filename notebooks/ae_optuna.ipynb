{
 "cells": [
  {
   "cell_type": "code",
   "execution_count": 8,
   "metadata": {},
   "outputs": [],
   "source": [
    "import csv\n",
    "import torch\n",
    "import torch.nn as nn\n",
    "import torch.optim as optim\n",
    "from torch.utils.data import DataLoader, Dataset, random_split\n",
    "import numpy as np\n",
    "from rich.progress import Progress\n",
    "from tqdm import tqdm\n",
    "import optuna"
   ]
  },
  {
   "cell_type": "code",
   "execution_count": 9,
   "metadata": {},
   "outputs": [],
   "source": [
    "# Define Autoencoder Model\n",
    "class Autoencoder(nn.Module):\n",
    "    def __init__(self, input_dim, latent_dim, dropout=0.0, use_batch_norm=False):\n",
    "        super(Autoencoder, self).__init__()\n",
    "        # Encoder\n",
    "        self.encoder = nn.Sequential(\n",
    "            nn.Linear(input_dim, 128),\n",
    "            nn.ReLU(),\n",
    "            nn.BatchNorm1d(128) if use_batch_norm else nn.Identity(),\n",
    "            nn.Dropout(dropout),\n",
    "            nn.Linear(128, latent_dim),\n",
    "            nn.ReLU(),\n",
    "            nn.BatchNorm1d(latent_dim) if use_batch_norm else nn.Identity(),\n",
    "        )\n",
    "        # Decoder\n",
    "        self.decoder = nn.Sequential(\n",
    "            nn.Linear(latent_dim, 128),\n",
    "            nn.ReLU(),\n",
    "            nn.BatchNorm1d(128) if use_batch_norm else nn.Identity(),\n",
    "            nn.Dropout(dropout),\n",
    "            nn.Linear(128, input_dim),\n",
    "            nn.Sigmoid(),  # Assuming input values are normalized to [0, 1]\n",
    "        )\n",
    "\n",
    "    def forward(self, x):\n",
    "        latent = self.encoder(x)\n",
    "        reconstructed = self.decoder(latent)\n",
    "        return latent, reconstructed"
   ]
  },
  {
   "cell_type": "code",
   "execution_count": 10,
   "metadata": {},
   "outputs": [],
   "source": [
    "# Custom dataset class to handle CSV input and padding\n",
    "class TreeDataset(Dataset):\n",
    "    def __init__(self, csv_file, padding_length=161):\n",
    "        # Load data from CSV\n",
    "        self.padding_length = padding_length\n",
    "        self.data = self._load_csv(csv_file)\n",
    "\n",
    "    def _min_max_normalize(self, array, min_val=0, max_val=100):\n",
    "        \"\"\"\n",
    "        Normalize array to the range [0, 1] based on given min_val and max_val.\n",
    "        \"\"\"\n",
    "        array = np.array(array, dtype=np.float32)\n",
    "        return (array - min_val) / (max_val - min_val)\n",
    "\n",
    "    def _load_csv(self, csv_file):\n",
    "        \"\"\"Read CSV file using Python's built-in csv module.\"\"\"\n",
    "        data = []\n",
    "        with open(csv_file, \"r\") as csvfile:\n",
    "            reader = csv.reader(csvfile)\n",
    "            with Progress() as progress:\n",
    "                task = progress.add_task(\n",
    "                    \"[cyan]Processing CSV...\", total=sum(1 for _ in csvfile)\n",
    "                )  # Total rows in file\n",
    "                csvfile.seek(0)  # Reset file pointer\n",
    "\n",
    "                for row in reader:\n",
    "                    row = list(map(int, row))\n",
    "                    normalized_row = self._min_max_normalize(row)\n",
    "                    data.append(normalized_row)\n",
    "                    # Update progress bar\n",
    "                    progress.update(task, advance=1)\n",
    "        return data\n",
    "\n",
    "    def __len__(self):\n",
    "        \"\"\"Return the length of the dataset (number of rows).\"\"\"\n",
    "        return len(self.data)\n",
    "\n",
    "    def __getitem__(self, idx):\n",
    "        \"\"\"Retrieve a single data point from the dataset.\"\"\"\n",
    "        return self.data[idx]"
   ]
  },
  {
   "cell_type": "code",
   "execution_count": 11,
   "metadata": {},
   "outputs": [],
   "source": [
    "def set_seed_for_everything(seed=42):\n",
    "    np.random.seed(seed)\n",
    "    torch.manual_seed(seed)\n",
    "    torch.cuda.manual_seed(seed)\n",
    "    torch.backends.cudnn.deterministic = True\n",
    "    torch.backends.cudnn.benchmark = False"
   ]
  },
  {
   "cell_type": "code",
   "execution_count": 12,
   "metadata": {},
   "outputs": [],
   "source": [
    "def train_model(model, criterion, optimizer, epochs, train_loader, params):\n",
    "    print(f\"Training the Autoencoder with params: {params}, Total epochs: {epochs}\")\n",
    "    for epoch in range(epochs):\n",
    "        model.train()\n",
    "        epoch_loss = 0\n",
    "        epoch_rmse = 0\n",
    "        total_samples = 0\n",
    "        for batch in tqdm(\n",
    "            train_loader, desc=f\"Epoch [{epoch+1}/{epochs}]\", unit=\"batch\"\n",
    "        ):\n",
    "            optimizer.zero_grad()\n",
    "            _, reconstructed = model(batch)\n",
    "            loss = criterion(reconstructed, batch)  # Reconstruction loss\n",
    "            loss.backward()\n",
    "            optimizer.step()\n",
    "\n",
    "            # Accumulate loss\n",
    "            batch_size = batch.size(0)\n",
    "            total_samples += batch_size\n",
    "            epoch_loss += loss.item() * batch_size  # Weighted by batch size\n",
    "\n",
    "            # Calculate and accumulate RMSE\n",
    "            rmse = torch.sqrt(loss)  # RMSE = sqrt(MSE)\n",
    "            epoch_rmse += rmse.item() * batch_size  # Weighted by batch size\n",
    "\n",
    "        # Compute average loss and RMSE over all samples\n",
    "        epoch_loss /= total_samples\n",
    "        epoch_rmse /= total_samples\n",
    "\n",
    "        print(\n",
    "            f\"Epoch [{epoch+1}/{epochs}], Loss: {epoch_loss:.6f}, RMSE: {epoch_rmse:.6f}\"\n",
    "        )"
   ]
  },
  {
   "cell_type": "code",
   "execution_count": 14,
   "metadata": {},
   "outputs": [],
   "source": [
    "def validate_model(model, criterion, val_loader):\n",
    "    ###\n",
    "    # Validate the model\n",
    "    ###\n",
    "    model.eval()\n",
    "    val_loss = 0\n",
    "    val_rmse = 0\n",
    "    total_samples = 0\n",
    "    # latent_representations = []\n",
    "    with torch.no_grad():\n",
    "        for batch in tqdm(val_loader, desc=\"Validating...\", unit=\"batch\"):\n",
    "            latent, reconstructed = model(batch)\n",
    "            loss = criterion(reconstructed, batch)\n",
    "            batch_size = batch.size(0)\n",
    "            total_samples += batch_size\n",
    "            val_loss += loss.item() * batch_size\n",
    "\n",
    "            # latent_representations.append(latent)\n",
    "\n",
    "            rmse = torch.sqrt(loss)\n",
    "            val_rmse += rmse.item() * batch_size\n",
    "\n",
    "    val_loss /= total_samples\n",
    "    val_rmse /= total_samples\n",
    "\n",
    "    # latent_representations = torch.cat(latent_representations).numpy()\n",
    "    # print(f\"Latent representations shape: {latent_representations.shape}\")\n",
    "    print(f\"Validation Loss: {val_loss:.6f}, Validation RMSE: {val_rmse:.6f}\")\n",
    "    return val_rmse"
   ]
  },
  {
   "cell_type": "code",
   "execution_count": 15,
   "metadata": {},
   "outputs": [
    {
     "data": {
      "application/vnd.jupyter.widget-view+json": {
       "model_id": "3bde8552aa67404289388ce94873a991",
       "version_major": 2,
       "version_minor": 0
      },
      "text/plain": [
       "Output()"
      ]
     },
     "metadata": {},
     "output_type": "display_data"
    },
    {
     "name": "stdout",
     "output_type": "stream",
     "text": [
      "Using device: cuda\n"
     ]
    },
    {
     "data": {
      "text/html": [
       "<pre style=\"white-space:pre;overflow-x:auto;line-height:normal;font-family:Menlo,'DejaVu Sans Mono',consolas,'Courier New',monospace\"></pre>\n"
      ],
      "text/plain": []
     },
     "metadata": {},
     "output_type": "display_data"
    },
    {
     "name": "stdout",
     "output_type": "stream",
     "text": [
      "Dataset size: 851229\n",
      "Train size: 680983\n",
      "Validation size: 170246\n"
     ]
    }
   ],
   "source": [
    "device = torch.device(\"cuda\" if torch.cuda.is_available() else \"cpu\")\n",
    "print(f\"Using device: {device}\")\n",
    "\n",
    "set_seed_for_everything(seed=1234)\n",
    "\n",
    "# Load dataset\n",
    "csv_file = \"train_data.csv\"  # Replace with your CSV file path\n",
    "dataset = TreeDataset(csv_file)\n",
    "print(f\"Dataset size: {len(dataset)}\")\n",
    "train_size = int(0.8 * len(dataset))\n",
    "print(f\"Train size: {train_size}\")\n",
    "val_size = len(dataset) - train_size\n",
    "print(f\"Validation size: {val_size}\")\n",
    "train_dataset, val_dataset = random_split(dataset, [train_size, val_size])\n",
    "\n",
    "train_loader = DataLoader(train_dataset, batch_size=32, shuffle=True)\n",
    "val_loader = DataLoader(val_dataset, batch_size=32, shuffle=False)\n",
    "\n",
    "input_dim = 161  # Number of features in the dataset\n",
    "epochs = 2\n",
    "criterion = torch.nn.MSELoss()"
   ]
  },
  {
   "cell_type": "code",
   "execution_count": 16,
   "metadata": {},
   "outputs": [
    {
     "name": "stderr",
     "output_type": "stream",
     "text": [
      "[I 2024-11-27 00:56:18,541] A new study created in memory with name: no-name-4c6bcaf3-d9e1-4434-aaf6-6f2605d1805d\n"
     ]
    },
    {
     "name": "stdout",
     "output_type": "stream",
     "text": [
      "Training the Autoencoder with params: {'lr': 0.01, 'weight_decay': 0.001, 'dropout': 0.0, 'latent_dim': 32}, Total epochs: 2\n"
     ]
    },
    {
     "name": "stderr",
     "output_type": "stream",
     "text": [
      "Epoch [1/2]: 100%|██████████| 21281/21281 [03:10<00:00, 111.84batch/s]\n"
     ]
    },
    {
     "name": "stdout",
     "output_type": "stream",
     "text": [
      "Epoch [1/2], Loss: 0.006822, RMSE: 0.082032\n"
     ]
    },
    {
     "name": "stderr",
     "output_type": "stream",
     "text": [
      "Epoch [2/2]: 100%|██████████| 21281/21281 [03:50<00:00, 92.43batch/s]\n"
     ]
    },
    {
     "name": "stdout",
     "output_type": "stream",
     "text": [
      "Epoch [2/2], Loss: 0.006673, RMSE: 0.081688\n"
     ]
    },
    {
     "name": "stderr",
     "output_type": "stream",
     "text": [
      "Validating...: 100%|██████████| 5321/5321 [00:16<00:00, 323.83batch/s]\n",
      "[I 2024-11-27 01:03:35,931] Trial 0 finished with value: 0.08157819161585476 and parameters: {'lr': 0.01, 'weight_decay': 0.001, 'dropout': 0.0, 'latent_dim': 32}. Best is trial 0 with value: 0.08157819161585476.\n"
     ]
    },
    {
     "name": "stdout",
     "output_type": "stream",
     "text": [
      "Validation Loss: 0.006655, Validation RMSE: 0.081578\n",
      "Training the Autoencoder with params: {'lr': 0.01, 'weight_decay': 1e-05, 'dropout': 0.2, 'latent_dim': 128}, Total epochs: 2\n"
     ]
    },
    {
     "name": "stderr",
     "output_type": "stream",
     "text": [
      "Epoch [1/2]: 100%|██████████| 21281/21281 [03:04<00:00, 115.61batch/s]\n"
     ]
    },
    {
     "name": "stdout",
     "output_type": "stream",
     "text": [
      "Epoch [1/2], Loss: 0.000384, RMSE: 0.015397\n"
     ]
    },
    {
     "name": "stderr",
     "output_type": "stream",
     "text": [
      "Epoch [2/2]: 100%|██████████| 21281/21281 [03:58<00:00, 89.34batch/s]\n"
     ]
    },
    {
     "name": "stdout",
     "output_type": "stream",
     "text": [
      "Epoch [2/2], Loss: 0.000236, RMSE: 0.015345\n"
     ]
    },
    {
     "name": "stderr",
     "output_type": "stream",
     "text": [
      "Validating...: 100%|██████████| 5321/5321 [00:20<00:00, 262.87batch/s]\n",
      "[I 2024-11-27 01:10:58,455] Trial 1 finished with value: 0.01813058085280007 and parameters: {'lr': 0.01, 'weight_decay': 1e-05, 'dropout': 0.2, 'latent_dim': 128}. Best is trial 1 with value: 0.01813058085280007.\n"
     ]
    },
    {
     "name": "stdout",
     "output_type": "stream",
     "text": [
      "Validation Loss: 0.000329, Validation RMSE: 0.018131\n",
      "Training the Autoencoder with params: {'lr': 0.01, 'weight_decay': 0, 'dropout': 0.2, 'latent_dim': 64}, Total epochs: 2\n"
     ]
    },
    {
     "name": "stderr",
     "output_type": "stream",
     "text": [
      "Epoch [1/2]: 100%|██████████| 21281/21281 [00:33<00:00, 636.14batch/s] \n"
     ]
    },
    {
     "name": "stdout",
     "output_type": "stream",
     "text": [
      "Epoch [1/2], Loss: 0.000220, RMSE: 0.008024\n"
     ]
    },
    {
     "name": "stderr",
     "output_type": "stream",
     "text": [
      "Epoch [2/2]: 100%|██████████| 21281/21281 [00:30<00:00, 690.32batch/s] \n"
     ]
    },
    {
     "name": "stdout",
     "output_type": "stream",
     "text": [
      "Epoch [2/2], Loss: 0.000031, RMSE: 0.005489\n"
     ]
    },
    {
     "name": "stderr",
     "output_type": "stream",
     "text": [
      "Validating...: 100%|██████████| 5321/5321 [00:00<00:00, 6373.29batch/s]\n",
      "[I 2024-11-27 01:12:03,576] Trial 2 finished with value: 0.0033350825143500912 and parameters: {'lr': 0.01, 'weight_decay': 0, 'dropout': 0.2, 'latent_dim': 64}. Best is trial 2 with value: 0.0033350825143500912.\n"
     ]
    },
    {
     "name": "stdout",
     "output_type": "stream",
     "text": [
      "Validation Loss: 0.000019, Validation RMSE: 0.003335\n",
      "Training the Autoencoder with params: {'lr': 0.01, 'weight_decay': 0.0001, 'dropout': 0.1, 'latent_dim': 128}, Total epochs: 2\n"
     ]
    },
    {
     "name": "stderr",
     "output_type": "stream",
     "text": [
      "Epoch [1/2]: 100%|██████████| 21281/21281 [05:46<00:00, 61.38batch/s]\n"
     ]
    },
    {
     "name": "stdout",
     "output_type": "stream",
     "text": [
      "Epoch [1/2], Loss: 0.000981, RMSE: 0.029193\n"
     ]
    },
    {
     "name": "stderr",
     "output_type": "stream",
     "text": [
      "Epoch [2/2]: 100%|██████████| 21281/21281 [06:28<00:00, 54.75batch/s]\n"
     ]
    },
    {
     "name": "stdout",
     "output_type": "stream",
     "text": [
      "Epoch [2/2], Loss: 0.000830, RMSE: 0.028798\n"
     ]
    },
    {
     "name": "stderr",
     "output_type": "stream",
     "text": [
      "Validating...: 100%|██████████| 5321/5321 [00:27<00:00, 195.04batch/s]\n",
      "[I 2024-11-27 01:24:46,234] Trial 3 finished with value: 0.029113761956008743 and parameters: {'lr': 0.01, 'weight_decay': 0.0001, 'dropout': 0.1, 'latent_dim': 128}. Best is trial 2 with value: 0.0033350825143500912.\n"
     ]
    },
    {
     "name": "stdout",
     "output_type": "stream",
     "text": [
      "Validation Loss: 0.000848, Validation RMSE: 0.029114\n",
      "Training the Autoencoder with params: {'lr': 0.0001, 'weight_decay': 0, 'dropout': 0.2, 'latent_dim': 64}, Total epochs: 2\n"
     ]
    },
    {
     "name": "stderr",
     "output_type": "stream",
     "text": [
      "Epoch [1/2]: 100%|██████████| 21281/21281 [00:45<00:00, 466.40batch/s]\n"
     ]
    },
    {
     "name": "stdout",
     "output_type": "stream",
     "text": [
      "Epoch [1/2], Loss: 0.010760, RMSE: 0.044304\n"
     ]
    },
    {
     "name": "stderr",
     "output_type": "stream",
     "text": [
      "Epoch [2/2]: 100%|██████████| 21281/21281 [00:18<00:00, 1151.04batch/s]\n"
     ]
    },
    {
     "name": "stdout",
     "output_type": "stream",
     "text": [
      "Epoch [2/2], Loss: 0.000065, RMSE: 0.007983\n"
     ]
    },
    {
     "name": "stderr",
     "output_type": "stream",
     "text": [
      "Validating...: 100%|██████████| 5321/5321 [00:00<00:00, 6387.40batch/s]\n",
      "[I 2024-11-27 01:25:51,189] Trial 4 finished with value: 0.0044287900571105855 and parameters: {'lr': 0.0001, 'weight_decay': 0, 'dropout': 0.2, 'latent_dim': 64}. Best is trial 2 with value: 0.0033350825143500912.\n"
     ]
    },
    {
     "name": "stdout",
     "output_type": "stream",
     "text": [
      "Validation Loss: 0.000020, Validation RMSE: 0.004429\n",
      "Training the Autoencoder with params: {'lr': 0.01, 'weight_decay': 0, 'dropout': 0.1, 'latent_dim': 32}, Total epochs: 2\n"
     ]
    },
    {
     "name": "stderr",
     "output_type": "stream",
     "text": [
      "Epoch [1/2]: 100%|██████████| 21281/21281 [00:34<00:00, 624.67batch/s]\n"
     ]
    },
    {
     "name": "stdout",
     "output_type": "stream",
     "text": [
      "Epoch [1/2], Loss: 0.000196, RMSE: 0.006998\n"
     ]
    },
    {
     "name": "stderr",
     "output_type": "stream",
     "text": [
      "Epoch [2/2]: 100%|██████████| 21281/21281 [00:49<00:00, 433.04batch/s]\n"
     ]
    },
    {
     "name": "stdout",
     "output_type": "stream",
     "text": [
      "Epoch [2/2], Loss: 0.000025, RMSE: 0.004959\n"
     ]
    },
    {
     "name": "stderr",
     "output_type": "stream",
     "text": [
      "Validating...: 100%|██████████| 5321/5321 [00:00<00:00, 6457.57batch/s]\n",
      "[I 2024-11-27 01:27:15,229] Trial 5 finished with value: 0.0032419510682003415 and parameters: {'lr': 0.01, 'weight_decay': 0, 'dropout': 0.1, 'latent_dim': 32}. Best is trial 5 with value: 0.0032419510682003415.\n"
     ]
    },
    {
     "name": "stdout",
     "output_type": "stream",
     "text": [
      "Validation Loss: 0.000011, Validation RMSE: 0.003242\n",
      "Training the Autoencoder with params: {'lr': 0.01, 'weight_decay': 1e-05, 'dropout': 0.1, 'latent_dim': 32}, Total epochs: 2\n"
     ]
    },
    {
     "name": "stderr",
     "output_type": "stream",
     "text": [
      "Epoch [1/2]: 100%|██████████| 21281/21281 [02:43<00:00, 130.38batch/s]\n"
     ]
    },
    {
     "name": "stdout",
     "output_type": "stream",
     "text": [
      "Epoch [1/2], Loss: 0.000359, RMSE: 0.014861\n"
     ]
    },
    {
     "name": "stderr",
     "output_type": "stream",
     "text": [
      "Epoch [2/2]: 100%|██████████| 21281/21281 [02:58<00:00, 119.30batch/s]\n"
     ]
    },
    {
     "name": "stdout",
     "output_type": "stream",
     "text": [
      "Epoch [2/2], Loss: 0.000216, RMSE: 0.014694\n"
     ]
    },
    {
     "name": "stderr",
     "output_type": "stream",
     "text": [
      "Validating...: 100%|██████████| 5321/5321 [00:13<00:00, 389.88batch/s]\n",
      "[I 2024-11-27 01:33:10,490] Trial 6 finished with value: 0.01437288545303457 and parameters: {'lr': 0.01, 'weight_decay': 1e-05, 'dropout': 0.1, 'latent_dim': 32}. Best is trial 5 with value: 0.0032419510682003415.\n"
     ]
    },
    {
     "name": "stdout",
     "output_type": "stream",
     "text": [
      "Validation Loss: 0.000207, Validation RMSE: 0.014373\n",
      "Training the Autoencoder with params: {'lr': 0.01, 'weight_decay': 0.0001, 'dropout': 0.2, 'latent_dim': 128}, Total epochs: 2\n"
     ]
    },
    {
     "name": "stderr",
     "output_type": "stream",
     "text": [
      "Epoch [1/2]: 100%|██████████| 21281/21281 [05:19<00:00, 66.62batch/s]\n"
     ]
    },
    {
     "name": "stdout",
     "output_type": "stream",
     "text": [
      "Epoch [1/2], Loss: 0.000997, RMSE: 0.029374\n"
     ]
    },
    {
     "name": "stderr",
     "output_type": "stream",
     "text": [
      "Epoch [2/2]: 100%|██████████| 21281/21281 [05:41<00:00, 62.34batch/s]\n"
     ]
    },
    {
     "name": "stdout",
     "output_type": "stream",
     "text": [
      "Epoch [2/2], Loss: 0.000839, RMSE: 0.028944\n"
     ]
    },
    {
     "name": "stderr",
     "output_type": "stream",
     "text": [
      "Validating...: 100%|██████████| 5321/5321 [00:27<00:00, 195.46batch/s]\n",
      "[I 2024-11-27 01:44:38,501] Trial 7 finished with value: 0.02881109796623918 and parameters: {'lr': 0.01, 'weight_decay': 0.0001, 'dropout': 0.2, 'latent_dim': 128}. Best is trial 5 with value: 0.0032419510682003415.\n"
     ]
    },
    {
     "name": "stdout",
     "output_type": "stream",
     "text": [
      "Validation Loss: 0.000830, Validation RMSE: 0.028811\n",
      "Training the Autoencoder with params: {'lr': 0.0001, 'weight_decay': 1e-05, 'dropout': 0.2, 'latent_dim': 32}, Total epochs: 2\n"
     ]
    },
    {
     "name": "stderr",
     "output_type": "stream",
     "text": [
      "Epoch [1/2]: 100%|██████████| 21281/21281 [00:59<00:00, 357.72batch/s]\n"
     ]
    },
    {
     "name": "stdout",
     "output_type": "stream",
     "text": [
      "Epoch [1/2], Loss: 0.010783, RMSE: 0.046197\n"
     ]
    },
    {
     "name": "stderr",
     "output_type": "stream",
     "text": [
      "Epoch [2/2]: 100%|██████████| 21281/21281 [01:46<00:00, 199.83batch/s]\n"
     ]
    },
    {
     "name": "stdout",
     "output_type": "stream",
     "text": [
      "Epoch [2/2], Loss: 0.000176, RMSE: 0.013250\n"
     ]
    },
    {
     "name": "stderr",
     "output_type": "stream",
     "text": [
      "Validating...: 100%|██████████| 5321/5321 [00:04<00:00, 1093.74batch/s]\n",
      "[I 2024-11-27 01:47:29,360] Trial 8 finished with value: 0.012186370927564716 and parameters: {'lr': 0.0001, 'weight_decay': 1e-05, 'dropout': 0.2, 'latent_dim': 32}. Best is trial 5 with value: 0.0032419510682003415.\n"
     ]
    },
    {
     "name": "stdout",
     "output_type": "stream",
     "text": [
      "Validation Loss: 0.000149, Validation RMSE: 0.012186\n",
      "Training the Autoencoder with params: {'lr': 0.0001, 'weight_decay': 0.001, 'dropout': 0.0, 'latent_dim': 128}, Total epochs: 2\n"
     ]
    },
    {
     "name": "stderr",
     "output_type": "stream",
     "text": [
      "Epoch [1/2]: 100%|██████████| 21281/21281 [04:00<00:00, 88.44batch/s] \n"
     ]
    },
    {
     "name": "stdout",
     "output_type": "stream",
     "text": [
      "Epoch [1/2], Loss: 0.016745, RMSE: 0.107927\n"
     ]
    },
    {
     "name": "stderr",
     "output_type": "stream",
     "text": [
      "Epoch [2/2]: 100%|██████████| 21281/21281 [06:04<00:00, 58.33batch/s]\n"
     ]
    },
    {
     "name": "stdout",
     "output_type": "stream",
     "text": [
      "Epoch [2/2], Loss: 0.006672, RMSE: 0.081683\n"
     ]
    },
    {
     "name": "stderr",
     "output_type": "stream",
     "text": [
      "Validating...: 100%|██████████| 5321/5321 [00:26<00:00, 203.84batch/s]\n",
      "[I 2024-11-27 01:58:00,933] Trial 9 finished with value: 0.08170351731093849 and parameters: {'lr': 0.0001, 'weight_decay': 0.001, 'dropout': 0.0, 'latent_dim': 128}. Best is trial 5 with value: 0.0032419510682003415.\n"
     ]
    },
    {
     "name": "stdout",
     "output_type": "stream",
     "text": [
      "Validation Loss: 0.006675, Validation RMSE: 0.081704\n",
      "Training the Autoencoder with params: {'lr': 0.001, 'weight_decay': 0, 'dropout': 0.1, 'latent_dim': 32}, Total epochs: 2\n"
     ]
    },
    {
     "name": "stderr",
     "output_type": "stream",
     "text": [
      "Epoch [1/2]: 100%|██████████| 21281/21281 [00:18<00:00, 1121.95batch/s]\n"
     ]
    },
    {
     "name": "stdout",
     "output_type": "stream",
     "text": [
      "Epoch [1/2], Loss: 0.001154, RMSE: 0.011131\n"
     ]
    },
    {
     "name": "stderr",
     "output_type": "stream",
     "text": [
      "Epoch [2/2]: 100%|██████████| 21281/21281 [00:20<00:00, 1056.45batch/s]\n"
     ]
    },
    {
     "name": "stdout",
     "output_type": "stream",
     "text": [
      "Epoch [2/2], Loss: 0.000025, RMSE: 0.004996\n"
     ]
    },
    {
     "name": "stderr",
     "output_type": "stream",
     "text": [
      "Validating...: 100%|██████████| 5321/5321 [00:02<00:00, 2587.15batch/s]\n",
      "[I 2024-11-27 01:58:42,108] Trial 10 finished with value: 0.00323525973553425 and parameters: {'lr': 0.001, 'weight_decay': 0, 'dropout': 0.1, 'latent_dim': 32}. Best is trial 10 with value: 0.00323525973553425.\n"
     ]
    },
    {
     "name": "stdout",
     "output_type": "stream",
     "text": [
      "Validation Loss: 0.000011, Validation RMSE: 0.003235\n",
      "Training the Autoencoder with params: {'lr': 0.001, 'weight_decay': 0, 'dropout': 0.1, 'latent_dim': 32}, Total epochs: 2\n"
     ]
    },
    {
     "name": "stderr",
     "output_type": "stream",
     "text": [
      "Epoch [1/2]: 100%|██████████| 21281/21281 [00:27<00:00, 762.72batch/s] \n"
     ]
    },
    {
     "name": "stdout",
     "output_type": "stream",
     "text": [
      "Epoch [1/2], Loss: 0.001158, RMSE: 0.011105\n"
     ]
    },
    {
     "name": "stderr",
     "output_type": "stream",
     "text": [
      "Epoch [2/2]: 100%|██████████| 21281/21281 [00:29<00:00, 730.87batch/s]\n"
     ]
    },
    {
     "name": "stdout",
     "output_type": "stream",
     "text": [
      "Epoch [2/2], Loss: 0.000024, RMSE: 0.004900\n"
     ]
    },
    {
     "name": "stderr",
     "output_type": "stream",
     "text": [
      "Validating...: 100%|██████████| 5321/5321 [00:00<00:00, 6288.88batch/s]\n",
      "[I 2024-11-27 01:59:39,980] Trial 11 finished with value: 0.0030827882588060247 and parameters: {'lr': 0.001, 'weight_decay': 0, 'dropout': 0.1, 'latent_dim': 32}. Best is trial 11 with value: 0.0030827882588060247.\n"
     ]
    },
    {
     "name": "stdout",
     "output_type": "stream",
     "text": [
      "Validation Loss: 0.000010, Validation RMSE: 0.003083\n",
      "Training the Autoencoder with params: {'lr': 0.001, 'weight_decay': 0, 'dropout': 0.1, 'latent_dim': 32}, Total epochs: 2\n"
     ]
    },
    {
     "name": "stderr",
     "output_type": "stream",
     "text": [
      "Epoch [1/2]: 100%|██████████| 21281/21281 [00:34<00:00, 620.54batch/s] \n"
     ]
    },
    {
     "name": "stdout",
     "output_type": "stream",
     "text": [
      "Epoch [1/2], Loss: 0.001164, RMSE: 0.011185\n"
     ]
    },
    {
     "name": "stderr",
     "output_type": "stream",
     "text": [
      "Epoch [2/2]: 100%|██████████| 21281/21281 [00:34<00:00, 625.67batch/s] \n"
     ]
    },
    {
     "name": "stdout",
     "output_type": "stream",
     "text": [
      "Epoch [2/2], Loss: 0.000025, RMSE: 0.004913\n"
     ]
    },
    {
     "name": "stderr",
     "output_type": "stream",
     "text": [
      "Validating...: 100%|██████████| 5321/5321 [00:00<00:00, 6380.64batch/s]\n",
      "[I 2024-11-27 02:00:49,130] Trial 12 finished with value: 0.0030207517768415875 and parameters: {'lr': 0.001, 'weight_decay': 0, 'dropout': 0.1, 'latent_dim': 32}. Best is trial 12 with value: 0.0030207517768415875.\n"
     ]
    },
    {
     "name": "stdout",
     "output_type": "stream",
     "text": [
      "Validation Loss: 0.000009, Validation RMSE: 0.003021\n",
      "Training the Autoencoder with params: {'lr': 0.001, 'weight_decay': 0, 'dropout': 0.1, 'latent_dim': 32}, Total epochs: 2\n"
     ]
    },
    {
     "name": "stderr",
     "output_type": "stream",
     "text": [
      "Epoch [1/2]: 100%|██████████| 21281/21281 [00:44<00:00, 477.40batch/s]\n"
     ]
    },
    {
     "name": "stdout",
     "output_type": "stream",
     "text": [
      "Epoch [1/2], Loss: 0.001151, RMSE: 0.011122\n"
     ]
    },
    {
     "name": "stderr",
     "output_type": "stream",
     "text": [
      "Epoch [2/2]: 100%|██████████| 21281/21281 [00:30<00:00, 686.67batch/s] \n"
     ]
    },
    {
     "name": "stdout",
     "output_type": "stream",
     "text": [
      "Epoch [2/2], Loss: 0.000024, RMSE: 0.004833\n"
     ]
    },
    {
     "name": "stderr",
     "output_type": "stream",
     "text": [
      "Validating...: 100%|██████████| 5321/5321 [00:01<00:00, 3068.93batch/s]\n",
      "[I 2024-11-27 02:02:06,438] Trial 13 finished with value: 0.0029018753710248857 and parameters: {'lr': 0.001, 'weight_decay': 0, 'dropout': 0.1, 'latent_dim': 32}. Best is trial 13 with value: 0.0029018753710248857.\n"
     ]
    },
    {
     "name": "stdout",
     "output_type": "stream",
     "text": [
      "Validation Loss: 0.000009, Validation RMSE: 0.002902\n",
      "Training the Autoencoder with params: {'lr': 0.001, 'weight_decay': 0, 'dropout': 0.1, 'latent_dim': 32}, Total epochs: 2\n"
     ]
    },
    {
     "name": "stderr",
     "output_type": "stream",
     "text": [
      "Epoch [1/2]: 100%|██████████| 21281/21281 [00:27<00:00, 764.62batch/s] \n"
     ]
    },
    {
     "name": "stdout",
     "output_type": "stream",
     "text": [
      "Epoch [1/2], Loss: 0.001149, RMSE: 0.011141\n"
     ]
    },
    {
     "name": "stderr",
     "output_type": "stream",
     "text": [
      "Epoch [2/2]: 100%|██████████| 21281/21281 [00:46<00:00, 460.56batch/s] \n"
     ]
    },
    {
     "name": "stdout",
     "output_type": "stream",
     "text": [
      "Epoch [2/2], Loss: 0.000025, RMSE: 0.004999\n"
     ]
    },
    {
     "name": "stderr",
     "output_type": "stream",
     "text": [
      "Validating...: 100%|██████████| 5321/5321 [00:00<00:00, 6397.39batch/s]\n",
      "[I 2024-11-27 02:03:21,314] Trial 14 finished with value: 0.0030939999733174866 and parameters: {'lr': 0.001, 'weight_decay': 0, 'dropout': 0.1, 'latent_dim': 32}. Best is trial 13 with value: 0.0029018753710248857.\n"
     ]
    },
    {
     "name": "stdout",
     "output_type": "stream",
     "text": [
      "Validation Loss: 0.000010, Validation RMSE: 0.003094\n",
      "Training the Autoencoder with params: {'lr': 0.001, 'weight_decay': 0, 'dropout': 0.1, 'latent_dim': 32}, Total epochs: 2\n"
     ]
    },
    {
     "name": "stderr",
     "output_type": "stream",
     "text": [
      "Epoch [1/2]: 100%|██████████| 21281/21281 [00:17<00:00, 1199.60batch/s]\n"
     ]
    },
    {
     "name": "stdout",
     "output_type": "stream",
     "text": [
      "Epoch [1/2], Loss: 0.001141, RMSE: 0.011066\n"
     ]
    },
    {
     "name": "stderr",
     "output_type": "stream",
     "text": [
      "Epoch [2/2]: 100%|██████████| 21281/21281 [00:17<00:00, 1195.26batch/s]\n"
     ]
    },
    {
     "name": "stdout",
     "output_type": "stream",
     "text": [
      "Epoch [2/2], Loss: 0.000025, RMSE: 0.004930\n"
     ]
    },
    {
     "name": "stderr",
     "output_type": "stream",
     "text": [
      "Validating...: 100%|██████████| 5321/5321 [00:00<00:00, 6484.46batch/s]\n",
      "[I 2024-11-27 02:03:57,684] Trial 15 finished with value: 0.0032830201906667703 and parameters: {'lr': 0.001, 'weight_decay': 0, 'dropout': 0.1, 'latent_dim': 32}. Best is trial 13 with value: 0.0029018753710248857.\n"
     ]
    },
    {
     "name": "stdout",
     "output_type": "stream",
     "text": [
      "Validation Loss: 0.000011, Validation RMSE: 0.003283\n",
      "Training the Autoencoder with params: {'lr': 0.001, 'weight_decay': 0, 'dropout': 0.0, 'latent_dim': 64}, Total epochs: 2\n"
     ]
    },
    {
     "name": "stderr",
     "output_type": "stream",
     "text": [
      "Epoch [1/2]: 100%|██████████| 21281/21281 [00:17<00:00, 1234.26batch/s]\n"
     ]
    },
    {
     "name": "stdout",
     "output_type": "stream",
     "text": [
      "Epoch [1/2], Loss: 0.000918, RMSE: 0.008143\n"
     ]
    },
    {
     "name": "stderr",
     "output_type": "stream",
     "text": [
      "Epoch [2/2]: 100%|██████████| 21281/21281 [00:17<00:00, 1218.37batch/s]\n"
     ]
    },
    {
     "name": "stdout",
     "output_type": "stream",
     "text": [
      "Epoch [2/2], Loss: 0.000011, RMSE: 0.003222\n"
     ]
    },
    {
     "name": "stderr",
     "output_type": "stream",
     "text": [
      "Validating...: 100%|██████████| 5321/5321 [00:00<00:00, 6411.86batch/s]\n",
      "[I 2024-11-27 02:04:33,227] Trial 16 finished with value: 0.0025722320725007834 and parameters: {'lr': 0.001, 'weight_decay': 0, 'dropout': 0.0, 'latent_dim': 64}. Best is trial 16 with value: 0.0025722320725007834.\n"
     ]
    },
    {
     "name": "stdout",
     "output_type": "stream",
     "text": [
      "Validation Loss: 0.000007, Validation RMSE: 0.002572\n",
      "Training the Autoencoder with params: {'lr': 0.001, 'weight_decay': 0.001, 'dropout': 0.0, 'latent_dim': 64}, Total epochs: 2\n"
     ]
    },
    {
     "name": "stderr",
     "output_type": "stream",
     "text": [
      "Epoch [1/2]: 100%|██████████| 21281/21281 [03:01<00:00, 117.32batch/s]\n"
     ]
    },
    {
     "name": "stdout",
     "output_type": "stream",
     "text": [
      "Epoch [1/2], Loss: 0.007836, RMSE: 0.084764\n"
     ]
    },
    {
     "name": "stderr",
     "output_type": "stream",
     "text": [
      "Epoch [2/2]: 100%|██████████| 21281/21281 [03:54<00:00, 90.94batch/s] \n"
     ]
    },
    {
     "name": "stdout",
     "output_type": "stream",
     "text": [
      "Epoch [2/2], Loss: 0.006673, RMSE: 0.081689\n"
     ]
    },
    {
     "name": "stderr",
     "output_type": "stream",
     "text": [
      "Validating...: 100%|██████████| 5321/5321 [00:18<00:00, 286.96batch/s]\n",
      "[I 2024-11-27 02:11:47,178] Trial 17 finished with value: 0.08169214980897098 and parameters: {'lr': 0.001, 'weight_decay': 0.001, 'dropout': 0.0, 'latent_dim': 64}. Best is trial 16 with value: 0.0025722320725007834.\n"
     ]
    },
    {
     "name": "stdout",
     "output_type": "stream",
     "text": [
      "Validation Loss: 0.006674, Validation RMSE: 0.081692\n",
      "Training the Autoencoder with params: {'lr': 0.001, 'weight_decay': 0.0001, 'dropout': 0.0, 'latent_dim': 64}, Total epochs: 2\n"
     ]
    },
    {
     "name": "stderr",
     "output_type": "stream",
     "text": [
      "Epoch [1/2]: 100%|██████████| 21281/21281 [02:33<00:00, 138.96batch/s]\n"
     ]
    },
    {
     "name": "stdout",
     "output_type": "stream",
     "text": [
      "Epoch [1/2], Loss: 0.001778, RMSE: 0.031935\n"
     ]
    },
    {
     "name": "stderr",
     "output_type": "stream",
     "text": [
      "Epoch [2/2]: 100%|██████████| 21281/21281 [02:55<00:00, 120.95batch/s]\n"
     ]
    },
    {
     "name": "stdout",
     "output_type": "stream",
     "text": [
      "Epoch [2/2], Loss: 0.000814, RMSE: 0.028536\n"
     ]
    },
    {
     "name": "stderr",
     "output_type": "stream",
     "text": [
      "Validating...: 100%|██████████| 5321/5321 [00:16<00:00, 326.40batch/s]\n",
      "[I 2024-11-27 02:17:32,582] Trial 18 finished with value: 0.028536069714803033 and parameters: {'lr': 0.001, 'weight_decay': 0.0001, 'dropout': 0.0, 'latent_dim': 64}. Best is trial 16 with value: 0.0025722320725007834.\n"
     ]
    },
    {
     "name": "stdout",
     "output_type": "stream",
     "text": [
      "Validation Loss: 0.000814, Validation RMSE: 0.028536\n",
      "Training the Autoencoder with params: {'lr': 0.001, 'weight_decay': 0, 'dropout': 0.0, 'latent_dim': 64}, Total epochs: 2\n"
     ]
    },
    {
     "name": "stderr",
     "output_type": "stream",
     "text": [
      "Epoch [1/2]: 100%|██████████| 21281/21281 [00:34<00:00, 621.36batch/s]\n"
     ]
    },
    {
     "name": "stdout",
     "output_type": "stream",
     "text": [
      "Epoch [1/2], Loss: 0.000921, RMSE: 0.008158\n"
     ]
    },
    {
     "name": "stderr",
     "output_type": "stream",
     "text": [
      "Epoch [2/2]: 100%|██████████| 21281/21281 [00:25<00:00, 839.36batch/s] \n"
     ]
    },
    {
     "name": "stdout",
     "output_type": "stream",
     "text": [
      "Epoch [2/2], Loss: 0.000011, RMSE: 0.003302\n"
     ]
    },
    {
     "name": "stderr",
     "output_type": "stream",
     "text": [
      "Validating...: 100%|██████████| 5321/5321 [00:00<00:00, 6331.84batch/s]\n",
      "[I 2024-11-27 02:18:33,032] Trial 19 finished with value: 0.0022389229271265526 and parameters: {'lr': 0.001, 'weight_decay': 0, 'dropout': 0.0, 'latent_dim': 64}. Best is trial 19 with value: 0.0022389229271265526.\n"
     ]
    },
    {
     "name": "stdout",
     "output_type": "stream",
     "text": [
      "Validation Loss: 0.000005, Validation RMSE: 0.002239\n",
      "Training the Autoencoder with params: {'lr': 0.001, 'weight_decay': 0, 'dropout': 0.0, 'latent_dim': 64}, Total epochs: 2\n"
     ]
    },
    {
     "name": "stderr",
     "output_type": "stream",
     "text": [
      "Epoch [1/2]: 100%|██████████| 21281/21281 [00:25<00:00, 829.82batch/s] \n"
     ]
    },
    {
     "name": "stdout",
     "output_type": "stream",
     "text": [
      "Epoch [1/2], Loss: 0.000921, RMSE: 0.008403\n"
     ]
    },
    {
     "name": "stderr",
     "output_type": "stream",
     "text": [
      "Epoch [2/2]: 100%|██████████| 21281/21281 [00:17<00:00, 1184.66batch/s]\n"
     ]
    },
    {
     "name": "stdout",
     "output_type": "stream",
     "text": [
      "Epoch [2/2], Loss: 0.000011, RMSE: 0.003312\n"
     ]
    },
    {
     "name": "stderr",
     "output_type": "stream",
     "text": [
      "Validating...: 100%|██████████| 5321/5321 [00:00<00:00, 6329.32batch/s]\n",
      "[I 2024-11-27 02:19:17,487] Trial 20 finished with value: 0.0025976909594635825 and parameters: {'lr': 0.001, 'weight_decay': 0, 'dropout': 0.0, 'latent_dim': 64}. Best is trial 19 with value: 0.0022389229271265526.\n"
     ]
    },
    {
     "name": "stdout",
     "output_type": "stream",
     "text": [
      "Validation Loss: 0.000007, Validation RMSE: 0.002598\n",
      "Training the Autoencoder with params: {'lr': 0.001, 'weight_decay': 0, 'dropout': 0.0, 'latent_dim': 64}, Total epochs: 2\n"
     ]
    },
    {
     "name": "stderr",
     "output_type": "stream",
     "text": [
      "Epoch [1/2]: 100%|██████████| 21281/21281 [00:30<00:00, 704.54batch/s]\n"
     ]
    },
    {
     "name": "stdout",
     "output_type": "stream",
     "text": [
      "Epoch [1/2], Loss: 0.000915, RMSE: 0.008127\n"
     ]
    },
    {
     "name": "stderr",
     "output_type": "stream",
     "text": [
      "Epoch [2/2]: 100%|██████████| 21281/21281 [00:19<00:00, 1100.50batch/s]\n"
     ]
    },
    {
     "name": "stdout",
     "output_type": "stream",
     "text": [
      "Epoch [2/2], Loss: 0.000011, RMSE: 0.003260\n"
     ]
    },
    {
     "name": "stderr",
     "output_type": "stream",
     "text": [
      "Validating...: 100%|██████████| 5321/5321 [00:00<00:00, 6355.36batch/s]\n",
      "[I 2024-11-27 02:20:07,874] Trial 21 finished with value: 0.0024589797995862605 and parameters: {'lr': 0.001, 'weight_decay': 0, 'dropout': 0.0, 'latent_dim': 64}. Best is trial 19 with value: 0.0022389229271265526.\n"
     ]
    },
    {
     "name": "stdout",
     "output_type": "stream",
     "text": [
      "Validation Loss: 0.000006, Validation RMSE: 0.002459\n",
      "Training the Autoencoder with params: {'lr': 0.001, 'weight_decay': 0, 'dropout': 0.0, 'latent_dim': 64}, Total epochs: 2\n"
     ]
    },
    {
     "name": "stderr",
     "output_type": "stream",
     "text": [
      "Epoch [1/2]: 100%|██████████| 21281/21281 [00:23<00:00, 920.96batch/s] \n"
     ]
    },
    {
     "name": "stdout",
     "output_type": "stream",
     "text": [
      "Epoch [1/2], Loss: 0.000910, RMSE: 0.008140\n"
     ]
    },
    {
     "name": "stderr",
     "output_type": "stream",
     "text": [
      "Epoch [2/2]: 100%|██████████| 21281/21281 [00:26<00:00, 814.78batch/s] \n"
     ]
    },
    {
     "name": "stdout",
     "output_type": "stream",
     "text": [
      "Epoch [2/2], Loss: 0.000011, RMSE: 0.003236\n"
     ]
    },
    {
     "name": "stderr",
     "output_type": "stream",
     "text": [
      "Validating...: 100%|██████████| 5321/5321 [00:00<00:00, 6322.51batch/s]\n",
      "[I 2024-11-27 02:20:57,948] Trial 22 finished with value: 0.0023873915263014187 and parameters: {'lr': 0.001, 'weight_decay': 0, 'dropout': 0.0, 'latent_dim': 64}. Best is trial 19 with value: 0.0022389229271265526.\n"
     ]
    },
    {
     "name": "stdout",
     "output_type": "stream",
     "text": [
      "Validation Loss: 0.000006, Validation RMSE: 0.002387\n",
      "Training the Autoencoder with params: {'lr': 0.001, 'weight_decay': 0, 'dropout': 0.0, 'latent_dim': 64}, Total epochs: 2\n"
     ]
    },
    {
     "name": "stderr",
     "output_type": "stream",
     "text": [
      "Epoch [1/2]: 100%|██████████| 21281/21281 [00:17<00:00, 1196.76batch/s]\n"
     ]
    },
    {
     "name": "stdout",
     "output_type": "stream",
     "text": [
      "Epoch [1/2], Loss: 0.000913, RMSE: 0.008176\n"
     ]
    },
    {
     "name": "stderr",
     "output_type": "stream",
     "text": [
      "Epoch [2/2]: 100%|██████████| 21281/21281 [00:17<00:00, 1186.13batch/s]\n"
     ]
    },
    {
     "name": "stdout",
     "output_type": "stream",
     "text": [
      "Epoch [2/2], Loss: 0.000011, RMSE: 0.003239\n"
     ]
    },
    {
     "name": "stderr",
     "output_type": "stream",
     "text": [
      "Validating...: 100%|██████████| 5321/5321 [00:00<00:00, 6404.05batch/s]\n",
      "[I 2024-11-27 02:21:34,507] Trial 23 finished with value: 0.0025388686710993845 and parameters: {'lr': 0.001, 'weight_decay': 0, 'dropout': 0.0, 'latent_dim': 64}. Best is trial 19 with value: 0.0022389229271265526.\n"
     ]
    },
    {
     "name": "stdout",
     "output_type": "stream",
     "text": [
      "Validation Loss: 0.000007, Validation RMSE: 0.002539\n",
      "Training the Autoencoder with params: {'lr': 0.001, 'weight_decay': 0, 'dropout': 0.0, 'latent_dim': 64}, Total epochs: 2\n"
     ]
    },
    {
     "name": "stderr",
     "output_type": "stream",
     "text": [
      "Epoch [1/2]: 100%|██████████| 21281/21281 [00:17<00:00, 1208.22batch/s]\n"
     ]
    },
    {
     "name": "stdout",
     "output_type": "stream",
     "text": [
      "Epoch [1/2], Loss: 0.000926, RMSE: 0.008228\n"
     ]
    },
    {
     "name": "stderr",
     "output_type": "stream",
     "text": [
      "Epoch [2/2]: 100%|██████████| 21281/21281 [00:17<00:00, 1183.20batch/s]\n"
     ]
    },
    {
     "name": "stdout",
     "output_type": "stream",
     "text": [
      "Epoch [2/2], Loss: 0.000011, RMSE: 0.003263\n"
     ]
    },
    {
     "name": "stderr",
     "output_type": "stream",
     "text": [
      "Validating...: 100%|██████████| 5321/5321 [00:00<00:00, 6313.40batch/s]\n",
      "[I 2024-11-27 02:22:10,954] Trial 24 finished with value: 0.002304599639429459 and parameters: {'lr': 0.001, 'weight_decay': 0, 'dropout': 0.0, 'latent_dim': 64}. Best is trial 19 with value: 0.0022389229271265526.\n"
     ]
    },
    {
     "name": "stdout",
     "output_type": "stream",
     "text": [
      "Validation Loss: 0.000006, Validation RMSE: 0.002305\n",
      "Training the Autoencoder with params: {'lr': 0.001, 'weight_decay': 0, 'dropout': 0.0, 'latent_dim': 64}, Total epochs: 2\n"
     ]
    },
    {
     "name": "stderr",
     "output_type": "stream",
     "text": [
      "Epoch [1/2]: 100%|██████████| 21281/21281 [00:26<00:00, 809.02batch/s] \n"
     ]
    },
    {
     "name": "stdout",
     "output_type": "stream",
     "text": [
      "Epoch [1/2], Loss: 0.000917, RMSE: 0.008170\n"
     ]
    },
    {
     "name": "stderr",
     "output_type": "stream",
     "text": [
      "Epoch [2/2]: 100%|██████████| 21281/21281 [00:30<00:00, 696.07batch/s] \n"
     ]
    },
    {
     "name": "stdout",
     "output_type": "stream",
     "text": [
      "Epoch [2/2], Loss: 0.000011, RMSE: 0.003275\n"
     ]
    },
    {
     "name": "stderr",
     "output_type": "stream",
     "text": [
      "Validating...: 100%|██████████| 5321/5321 [00:01<00:00, 3634.38batch/s]\n",
      "[I 2024-11-27 02:23:09,302] Trial 25 finished with value: 0.0025094118933857443 and parameters: {'lr': 0.001, 'weight_decay': 0, 'dropout': 0.0, 'latent_dim': 64}. Best is trial 19 with value: 0.0022389229271265526.\n"
     ]
    },
    {
     "name": "stdout",
     "output_type": "stream",
     "text": [
      "Validation Loss: 0.000006, Validation RMSE: 0.002509\n",
      "Training the Autoencoder with params: {'lr': 0.0001, 'weight_decay': 0.0001, 'dropout': 0.0, 'latent_dim': 64}, Total epochs: 2\n"
     ]
    },
    {
     "name": "stderr",
     "output_type": "stream",
     "text": [
      "Epoch [1/2]: 100%|██████████| 21281/21281 [01:51<00:00, 190.99batch/s]\n"
     ]
    },
    {
     "name": "stdout",
     "output_type": "stream",
     "text": [
      "Epoch [1/2], Loss: 0.008743, RMSE: 0.053660\n"
     ]
    },
    {
     "name": "stderr",
     "output_type": "stream",
     "text": [
      "Epoch [2/2]: 100%|██████████| 21281/21281 [03:20<00:00, 105.97batch/s]\n"
     ]
    },
    {
     "name": "stdout",
     "output_type": "stream",
     "text": [
      "Epoch [2/2], Loss: 0.000814, RMSE: 0.028522\n"
     ]
    },
    {
     "name": "stderr",
     "output_type": "stream",
     "text": [
      "Validating...: 100%|██████████| 5321/5321 [00:17<00:00, 310.28batch/s]\n",
      "[I 2024-11-27 02:28:38,703] Trial 26 finished with value: 0.02849201110322595 and parameters: {'lr': 0.0001, 'weight_decay': 0.0001, 'dropout': 0.0, 'latent_dim': 64}. Best is trial 19 with value: 0.0022389229271265526.\n"
     ]
    },
    {
     "name": "stdout",
     "output_type": "stream",
     "text": [
      "Validation Loss: 0.000812, Validation RMSE: 0.028492\n",
      "Training the Autoencoder with params: {'lr': 0.001, 'weight_decay': 0.001, 'dropout': 0.0, 'latent_dim': 64}, Total epochs: 2\n"
     ]
    },
    {
     "name": "stderr",
     "output_type": "stream",
     "text": [
      "Epoch [1/2]: 100%|██████████| 21281/21281 [03:43<00:00, 95.05batch/s] \n"
     ]
    },
    {
     "name": "stdout",
     "output_type": "stream",
     "text": [
      "Epoch [1/2], Loss: 0.007826, RMSE: 0.084752\n"
     ]
    },
    {
     "name": "stderr",
     "output_type": "stream",
     "text": [
      "Epoch [2/2]: 100%|██████████| 21281/21281 [02:52<00:00, 123.65batch/s]\n"
     ]
    },
    {
     "name": "stdout",
     "output_type": "stream",
     "text": [
      "Epoch [2/2], Loss: 0.006673, RMSE: 0.081689\n"
     ]
    },
    {
     "name": "stderr",
     "output_type": "stream",
     "text": [
      "Validating...: 100%|██████████| 5321/5321 [00:18<00:00, 282.57batch/s]\n",
      "[I 2024-11-27 02:35:33,538] Trial 27 finished with value: 0.08177504632370144 and parameters: {'lr': 0.001, 'weight_decay': 0.001, 'dropout': 0.0, 'latent_dim': 64}. Best is trial 19 with value: 0.0022389229271265526.\n"
     ]
    },
    {
     "name": "stdout",
     "output_type": "stream",
     "text": [
      "Validation Loss: 0.006687, Validation RMSE: 0.081775\n",
      "Training the Autoencoder with params: {'lr': 0.001, 'weight_decay': 1e-05, 'dropout': 0.0, 'latent_dim': 64}, Total epochs: 2\n"
     ]
    },
    {
     "name": "stderr",
     "output_type": "stream",
     "text": [
      "Epoch [1/2]: 100%|██████████| 21281/21281 [02:43<00:00, 129.91batch/s]\n"
     ]
    },
    {
     "name": "stdout",
     "output_type": "stream",
     "text": [
      "Epoch [1/2], Loss: 0.001054, RMSE: 0.015660\n"
     ]
    },
    {
     "name": "stderr",
     "output_type": "stream",
     "text": [
      "Epoch [2/2]: 100%|██████████| 21281/21281 [03:39<00:00, 97.07batch/s] \n"
     ]
    },
    {
     "name": "stdout",
     "output_type": "stream",
     "text": [
      "Epoch [2/2], Loss: 0.000149, RMSE: 0.012207\n"
     ]
    },
    {
     "name": "stderr",
     "output_type": "stream",
     "text": [
      "Validating...: 100%|██████████| 5321/5321 [00:18<00:00, 281.52batch/s]\n",
      "[I 2024-11-27 02:42:15,506] Trial 28 finished with value: 0.012660912787677742 and parameters: {'lr': 0.001, 'weight_decay': 1e-05, 'dropout': 0.0, 'latent_dim': 64}. Best is trial 19 with value: 0.0022389229271265526.\n"
     ]
    },
    {
     "name": "stdout",
     "output_type": "stream",
     "text": [
      "Validation Loss: 0.000161, Validation RMSE: 0.012661\n",
      "Training the Autoencoder with params: {'lr': 0.001, 'weight_decay': 0.001, 'dropout': 0.0, 'latent_dim': 64}, Total epochs: 2\n"
     ]
    },
    {
     "name": "stderr",
     "output_type": "stream",
     "text": [
      "Epoch [1/2]: 100%|██████████| 21281/21281 [03:50<00:00, 92.13batch/s] \n"
     ]
    },
    {
     "name": "stdout",
     "output_type": "stream",
     "text": [
      "Epoch [1/2], Loss: 0.007835, RMSE: 0.084772\n"
     ]
    },
    {
     "name": "stderr",
     "output_type": "stream",
     "text": [
      "Epoch [2/2]: 100%|██████████| 21281/21281 [03:12<00:00, 110.79batch/s]\n"
     ]
    },
    {
     "name": "stdout",
     "output_type": "stream",
     "text": [
      "Epoch [2/2], Loss: 0.006673, RMSE: 0.081689\n"
     ]
    },
    {
     "name": "stderr",
     "output_type": "stream",
     "text": [
      "Validating...: 100%|██████████| 5321/5321 [00:16<00:00, 314.91batch/s]\n",
      "[I 2024-11-27 02:49:35,484] Trial 29 finished with value: 0.08173945786324933 and parameters: {'lr': 0.001, 'weight_decay': 0.001, 'dropout': 0.0, 'latent_dim': 64}. Best is trial 19 with value: 0.0022389229271265526.\n"
     ]
    },
    {
     "name": "stdout",
     "output_type": "stream",
     "text": [
      "Validation Loss: 0.006681, Validation RMSE: 0.081739\n",
      "Training the Autoencoder with params: {'lr': 0.0001, 'weight_decay': 0, 'dropout': 0.0, 'latent_dim': 64}, Total epochs: 2\n"
     ]
    },
    {
     "name": "stderr",
     "output_type": "stream",
     "text": [
      "Epoch [1/2]: 100%|██████████| 21281/21281 [00:18<00:00, 1166.36batch/s]\n"
     ]
    },
    {
     "name": "stdout",
     "output_type": "stream",
     "text": [
      "Epoch [1/2], Loss: 0.007661, RMSE: 0.031703\n"
     ]
    },
    {
     "name": "stderr",
     "output_type": "stream",
     "text": [
      "Epoch [2/2]: 100%|██████████| 21281/21281 [00:25<00:00, 843.03batch/s] \n"
     ]
    },
    {
     "name": "stdout",
     "output_type": "stream",
     "text": [
      "Epoch [2/2], Loss: 0.000022, RMSE: 0.004587\n"
     ]
    },
    {
     "name": "stderr",
     "output_type": "stream",
     "text": [
      "Validating...: 100%|██████████| 5321/5321 [00:00<00:00, 6385.27batch/s]\n",
      "[I 2024-11-27 02:50:19,811] Trial 30 finished with value: 0.0032014116955849043 and parameters: {'lr': 0.0001, 'weight_decay': 0, 'dropout': 0.0, 'latent_dim': 64}. Best is trial 19 with value: 0.0022389229271265526.\n"
     ]
    },
    {
     "name": "stdout",
     "output_type": "stream",
     "text": [
      "Validation Loss: 0.000011, Validation RMSE: 0.003201\n",
      "Training the Autoencoder with params: {'lr': 0.001, 'weight_decay': 0, 'dropout': 0.0, 'latent_dim': 64}, Total epochs: 2\n"
     ]
    },
    {
     "name": "stderr",
     "output_type": "stream",
     "text": [
      "Epoch [1/2]: 100%|██████████| 21281/21281 [00:22<00:00, 953.01batch/s] \n"
     ]
    },
    {
     "name": "stdout",
     "output_type": "stream",
     "text": [
      "Epoch [1/2], Loss: 0.000922, RMSE: 0.008318\n"
     ]
    },
    {
     "name": "stderr",
     "output_type": "stream",
     "text": [
      "Epoch [2/2]: 100%|██████████| 21281/21281 [00:32<00:00, 650.22batch/s] \n"
     ]
    },
    {
     "name": "stdout",
     "output_type": "stream",
     "text": [
      "Epoch [2/2], Loss: 0.000012, RMSE: 0.003360\n"
     ]
    },
    {
     "name": "stderr",
     "output_type": "stream",
     "text": [
      "Validating...: 100%|██████████| 5321/5321 [00:01<00:00, 3219.76batch/s]\n",
      "[I 2024-11-27 02:51:16,529] Trial 31 finished with value: 0.0022954106953400814 and parameters: {'lr': 0.001, 'weight_decay': 0, 'dropout': 0.0, 'latent_dim': 64}. Best is trial 19 with value: 0.0022389229271265526.\n"
     ]
    },
    {
     "name": "stdout",
     "output_type": "stream",
     "text": [
      "Validation Loss: 0.000005, Validation RMSE: 0.002295\n",
      "Training the Autoencoder with params: {'lr': 0.001, 'weight_decay': 0, 'dropout': 0.0, 'latent_dim': 64}, Total epochs: 2\n"
     ]
    },
    {
     "name": "stderr",
     "output_type": "stream",
     "text": [
      "Epoch [1/2]: 100%|██████████| 21281/21281 [00:43<00:00, 490.08batch/s] \n"
     ]
    },
    {
     "name": "stdout",
     "output_type": "stream",
     "text": [
      "Epoch [1/2], Loss: 0.000915, RMSE: 0.008196\n"
     ]
    },
    {
     "name": "stderr",
     "output_type": "stream",
     "text": [
      "Epoch [2/2]: 100%|██████████| 21281/21281 [00:44<00:00, 477.60batch/s]\n"
     ]
    },
    {
     "name": "stdout",
     "output_type": "stream",
     "text": [
      "Epoch [2/2], Loss: 0.000012, RMSE: 0.003411\n"
     ]
    },
    {
     "name": "stderr",
     "output_type": "stream",
     "text": [
      "Validating...: 100%|██████████| 5321/5321 [00:00<00:00, 6362.97batch/s]\n",
      "[I 2024-11-27 02:52:45,353] Trial 32 finished with value: 0.0028826028555330326 and parameters: {'lr': 0.001, 'weight_decay': 0, 'dropout': 0.0, 'latent_dim': 64}. Best is trial 19 with value: 0.0022389229271265526.\n"
     ]
    },
    {
     "name": "stdout",
     "output_type": "stream",
     "text": [
      "Validation Loss: 0.000008, Validation RMSE: 0.002883\n",
      "Training the Autoencoder with params: {'lr': 0.001, 'weight_decay': 0, 'dropout': 0.0, 'latent_dim': 64}, Total epochs: 2\n"
     ]
    },
    {
     "name": "stderr",
     "output_type": "stream",
     "text": [
      "Epoch [1/2]: 100%|██████████| 21281/21281 [00:34<00:00, 611.54batch/s] \n"
     ]
    },
    {
     "name": "stdout",
     "output_type": "stream",
     "text": [
      "Epoch [1/2], Loss: 0.000912, RMSE: 0.008092\n"
     ]
    },
    {
     "name": "stderr",
     "output_type": "stream",
     "text": [
      "Epoch [2/2]: 100%|██████████| 21281/21281 [00:17<00:00, 1212.95batch/s]\n"
     ]
    },
    {
     "name": "stdout",
     "output_type": "stream",
     "text": [
      "Epoch [2/2], Loss: 0.000011, RMSE: 0.003299\n"
     ]
    },
    {
     "name": "stderr",
     "output_type": "stream",
     "text": [
      "Validating...: 100%|██████████| 5321/5321 [00:00<00:00, 6300.99batch/s]\n",
      "[I 2024-11-27 02:53:38,547] Trial 33 finished with value: 0.0025931085539751112 and parameters: {'lr': 0.001, 'weight_decay': 0, 'dropout': 0.0, 'latent_dim': 64}. Best is trial 19 with value: 0.0022389229271265526.\n"
     ]
    },
    {
     "name": "stdout",
     "output_type": "stream",
     "text": [
      "Validation Loss: 0.000007, Validation RMSE: 0.002593\n",
      "Training the Autoencoder with params: {'lr': 0.001, 'weight_decay': 0, 'dropout': 0.0, 'latent_dim': 64}, Total epochs: 2\n"
     ]
    },
    {
     "name": "stderr",
     "output_type": "stream",
     "text": [
      "Epoch [1/2]: 100%|██████████| 21281/21281 [00:31<00:00, 667.69batch/s] \n"
     ]
    },
    {
     "name": "stdout",
     "output_type": "stream",
     "text": [
      "Epoch [1/2], Loss: 0.000920, RMSE: 0.008178\n"
     ]
    },
    {
     "name": "stderr",
     "output_type": "stream",
     "text": [
      "Epoch [2/2]: 100%|██████████| 21281/21281 [00:22<00:00, 945.21batch/s] \n"
     ]
    },
    {
     "name": "stdout",
     "output_type": "stream",
     "text": [
      "Epoch [2/2], Loss: 0.000011, RMSE: 0.003317\n"
     ]
    },
    {
     "name": "stderr",
     "output_type": "stream",
     "text": [
      "Validating...: 100%|██████████| 5321/5321 [00:01<00:00, 3330.66batch/s]\n",
      "[I 2024-11-27 02:54:34,538] Trial 34 finished with value: 0.0023073477073557182 and parameters: {'lr': 0.001, 'weight_decay': 0, 'dropout': 0.0, 'latent_dim': 64}. Best is trial 19 with value: 0.0022389229271265526.\n"
     ]
    },
    {
     "name": "stdout",
     "output_type": "stream",
     "text": [
      "Validation Loss: 0.000006, Validation RMSE: 0.002307\n",
      "Training the Autoencoder with params: {'lr': 0.001, 'weight_decay': 0, 'dropout': 0.0, 'latent_dim': 128}, Total epochs: 2\n"
     ]
    },
    {
     "name": "stderr",
     "output_type": "stream",
     "text": [
      "Epoch [1/2]: 100%|██████████| 21281/21281 [00:45<00:00, 462.96batch/s]\n"
     ]
    },
    {
     "name": "stdout",
     "output_type": "stream",
     "text": [
      "Epoch [1/2], Loss: 0.000900, RMSE: 0.007944\n"
     ]
    },
    {
     "name": "stderr",
     "output_type": "stream",
     "text": [
      "Epoch [2/2]: 100%|██████████| 21281/21281 [00:40<00:00, 519.43batch/s]\n"
     ]
    },
    {
     "name": "stdout",
     "output_type": "stream",
     "text": [
      "Epoch [2/2], Loss: 0.000010, RMSE: 0.003132\n"
     ]
    },
    {
     "name": "stderr",
     "output_type": "stream",
     "text": [
      "Validating...: 100%|██████████| 5321/5321 [00:01<00:00, 3967.57batch/s]\n",
      "[I 2024-11-27 02:56:02,823] Trial 35 finished with value: 0.002375541634758541 and parameters: {'lr': 0.001, 'weight_decay': 0, 'dropout': 0.0, 'latent_dim': 128}. Best is trial 19 with value: 0.0022389229271265526.\n"
     ]
    },
    {
     "name": "stdout",
     "output_type": "stream",
     "text": [
      "Validation Loss: 0.000006, Validation RMSE: 0.002376\n",
      "Training the Autoencoder with params: {'lr': 0.01, 'weight_decay': 1e-05, 'dropout': 0.2, 'latent_dim': 64}, Total epochs: 2\n"
     ]
    },
    {
     "name": "stderr",
     "output_type": "stream",
     "text": [
      "Epoch [1/2]: 100%|██████████| 21281/21281 [02:32<00:00, 139.62batch/s]\n"
     ]
    },
    {
     "name": "stdout",
     "output_type": "stream",
     "text": [
      "Epoch [1/2], Loss: 0.000385, RMSE: 0.015416\n"
     ]
    },
    {
     "name": "stderr",
     "output_type": "stream",
     "text": [
      "Epoch [2/2]: 100%|██████████| 21281/21281 [02:50<00:00, 124.83batch/s]\n"
     ]
    },
    {
     "name": "stdout",
     "output_type": "stream",
     "text": [
      "Epoch [2/2], Loss: 0.000235, RMSE: 0.015318\n"
     ]
    },
    {
     "name": "stderr",
     "output_type": "stream",
     "text": [
      "Validating...: 100%|██████████| 5321/5321 [00:14<00:00, 355.20batch/s]\n",
      "[I 2024-11-27 03:01:40,713] Trial 36 finished with value: 0.016788293275509365 and parameters: {'lr': 0.01, 'weight_decay': 1e-05, 'dropout': 0.2, 'latent_dim': 64}. Best is trial 19 with value: 0.0022389229271265526.\n"
     ]
    },
    {
     "name": "stdout",
     "output_type": "stream",
     "text": [
      "Validation Loss: 0.000282, Validation RMSE: 0.016788\n",
      "Training the Autoencoder with params: {'lr': 0.001, 'weight_decay': 0, 'dropout': 0.0, 'latent_dim': 64}, Total epochs: 2\n"
     ]
    },
    {
     "name": "stderr",
     "output_type": "stream",
     "text": [
      "Epoch [1/2]: 100%|██████████| 21281/21281 [00:17<00:00, 1209.87batch/s]\n"
     ]
    },
    {
     "name": "stdout",
     "output_type": "stream",
     "text": [
      "Epoch [1/2], Loss: 0.000914, RMSE: 0.008172\n"
     ]
    },
    {
     "name": "stderr",
     "output_type": "stream",
     "text": [
      "Epoch [2/2]: 100%|██████████| 21281/21281 [00:33<00:00, 632.38batch/s]\n"
     ]
    },
    {
     "name": "stdout",
     "output_type": "stream",
     "text": [
      "Epoch [2/2], Loss: 0.000011, RMSE: 0.003294\n"
     ]
    },
    {
     "name": "stderr",
     "output_type": "stream",
     "text": [
      "Validating...: 100%|██████████| 5321/5321 [00:02<00:00, 2571.67batch/s]\n",
      "[I 2024-11-27 03:02:34,029] Trial 37 finished with value: 0.0023518284927045 and parameters: {'lr': 0.001, 'weight_decay': 0, 'dropout': 0.0, 'latent_dim': 64}. Best is trial 19 with value: 0.0022389229271265526.\n"
     ]
    },
    {
     "name": "stdout",
     "output_type": "stream",
     "text": [
      "Validation Loss: 0.000006, Validation RMSE: 0.002352\n",
      "Training the Autoencoder with params: {'lr': 0.01, 'weight_decay': 0.0001, 'dropout': 0.0, 'latent_dim': 128}, Total epochs: 2\n"
     ]
    },
    {
     "name": "stderr",
     "output_type": "stream",
     "text": [
      "Epoch [1/2]: 100%|██████████| 21281/21281 [05:24<00:00, 65.57batch/s]\n"
     ]
    },
    {
     "name": "stdout",
     "output_type": "stream",
     "text": [
      "Epoch [1/2], Loss: 0.000954, RMSE: 0.028949\n"
     ]
    },
    {
     "name": "stderr",
     "output_type": "stream",
     "text": [
      "Epoch [2/2]: 100%|██████████| 21281/21281 [06:08<00:00, 57.75batch/s]\n"
     ]
    },
    {
     "name": "stdout",
     "output_type": "stream",
     "text": [
      "Epoch [2/2], Loss: 0.000814, RMSE: 0.028535\n"
     ]
    },
    {
     "name": "stderr",
     "output_type": "stream",
     "text": [
      "Validating...: 100%|██████████| 5321/5321 [00:25<00:00, 205.89batch/s]\n",
      "[I 2024-11-27 03:14:32,957] Trial 38 finished with value: 0.028576539166879737 and parameters: {'lr': 0.01, 'weight_decay': 0.0001, 'dropout': 0.0, 'latent_dim': 128}. Best is trial 19 with value: 0.0022389229271265526.\n"
     ]
    },
    {
     "name": "stdout",
     "output_type": "stream",
     "text": [
      "Validation Loss: 0.000817, Validation RMSE: 0.028577\n",
      "Training the Autoencoder with params: {'lr': 0.001, 'weight_decay': 0, 'dropout': 0.2, 'latent_dim': 64}, Total epochs: 2\n"
     ]
    },
    {
     "name": "stderr",
     "output_type": "stream",
     "text": [
      "Epoch [1/2]: 100%|██████████| 21281/21281 [00:18<00:00, 1157.83batch/s]\n"
     ]
    },
    {
     "name": "stdout",
     "output_type": "stream",
     "text": [
      "Epoch [1/2], Loss: 0.001303, RMSE: 0.012491\n"
     ]
    },
    {
     "name": "stderr",
     "output_type": "stream",
     "text": [
      "Epoch [2/2]: 100%|██████████| 21281/21281 [00:18<00:00, 1148.07batch/s]\n"
     ]
    },
    {
     "name": "stdout",
     "output_type": "stream",
     "text": [
      "Epoch [2/2], Loss: 0.000030, RMSE: 0.005464\n"
     ]
    },
    {
     "name": "stderr",
     "output_type": "stream",
     "text": [
      "Validating...: 100%|██████████| 5321/5321 [00:00<00:00, 6394.24batch/s]\n",
      "[I 2024-11-27 03:15:10,713] Trial 39 finished with value: 0.0034204485318880978 and parameters: {'lr': 0.001, 'weight_decay': 0, 'dropout': 0.2, 'latent_dim': 64}. Best is trial 19 with value: 0.0022389229271265526.\n"
     ]
    },
    {
     "name": "stdout",
     "output_type": "stream",
     "text": [
      "Validation Loss: 0.000012, Validation RMSE: 0.003420\n",
      "Best params: {'lr': 0.001, 'weight_decay': 0, 'dropout': 0.0, 'latent_dim': 64}, Best Validation RMSE: 0.002239\n"
     ]
    }
   ],
   "source": [
    "def objective(trial):\n",
    "    # if you want to try suggest_float, put log=True for lr and weight_decay\n",
    "    lr = trial.suggest_categorical(\"lr\", [0.0001, 0.001, 0.01])\n",
    "    weight_decay = trial.suggest_categorical(\"weight_decay\", [0, 1e-5, 1e-4, 1e-3])\n",
    "    dropout = trial.suggest_categorical(\"dropout\", [0.0, 0.1, 0.2])\n",
    "    latent_dim = trial.suggest_categorical(\"latent_dim\", [32, 64, 128])\n",
    "    use_batch_norm = True\n",
    "\n",
    "    model = Autoencoder(\n",
    "        input_dim=input_dim,\n",
    "        latent_dim=latent_dim,\n",
    "        dropout=dropout,\n",
    "        use_batch_norm=use_batch_norm,\n",
    "    )\n",
    "    optimizer = optim.Adam(model.parameters(), lr=lr, weight_decay=weight_decay)\n",
    "\n",
    "    train_model(model, criterion, optimizer, epochs, train_loader, trial.params)\n",
    "    val_rmse = validate_model(model, criterion, val_loader)\n",
    "    return val_rmse\n",
    "\n",
    "\n",
    "# Run the optimization\n",
    "study = optuna.create_study()\n",
    "study.optimize(objective, n_trials=40)\n",
    "\n",
    "trial = study.best_trial\n",
    "best_params = trial.params  # The best hyperparameters found\n",
    "best_val_rmse = trial.value  # The best value found (i.e., best validation loss)\n",
    "# Print the best hyperparameters found by optuna\n",
    "print(f\"Best params: {best_params}, Best Validation RMSE: {best_val_rmse:.6f}\")"
   ]
  }
 ],
 "metadata": {
  "kernelspec": {
   "display_name": "Python 3",
   "language": "python",
   "name": "python3"
  },
  "language_info": {
   "codemirror_mode": {
    "name": "ipython",
    "version": 3
   },
   "file_extension": ".py",
   "mimetype": "text/x-python",
   "name": "python",
   "nbconvert_exporter": "python",
   "pygments_lexer": "ipython3",
   "version": "3.10.12"
  }
 },
 "nbformat": 4,
 "nbformat_minor": 2
}
