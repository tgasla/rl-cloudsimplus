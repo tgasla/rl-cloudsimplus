{
 "cells": [
  {
   "cell_type": "code",
   "execution_count": 1,
   "metadata": {},
   "outputs": [],
   "source": [
    "import csv"
   ]
  },
  {
   "cell_type": "code",
   "execution_count": 2,
   "metadata": {},
   "outputs": [],
   "source": [
    "def pad_row(row, target_length=161):\n",
    "    if len(row) < target_length:\n",
    "        # Pad with zeros to the right if the row is shorter than 161\n",
    "        row += [0] * (target_length - len(row))\n",
    "    return row\n",
    "\n",
    "\n",
    "def preprocess_data():\n",
    "    # Step 1: Read the dataset line by line\n",
    "    file_path = \"data/5hosts_and_10hosts_data.csv\"  # Your input file path\n",
    "    processed_data = []\n",
    "\n",
    "    with open(file_path, \"r\") as file:\n",
    "        reader = file.readlines()\n",
    "\n",
    "        for line in reader:\n",
    "            # Step 2: Process the line (remove brackets and split the string)\n",
    "            line = line.strip()  # Remove any leading/trailing spaces\n",
    "            line = line.strip(\"[]\")  # Remove the square brackets\n",
    "            if not line:\n",
    "                continue\n",
    "            numbers = list(line.split(\",\"))\n",
    "            processed_data.append(numbers)\n",
    "\n",
    "    # Apply padding to each row\n",
    "    processed_data = [pad_row(row) for row in processed_data]\n",
    "\n",
    "    # Step 4: Split the data into train and test datasets (85% / 15%)\n",
    "    train_size = int(0.85 * len(processed_data))\n",
    "    train_data = processed_data[:train_size]\n",
    "    test_data = processed_data[train_size:]\n",
    "\n",
    "    # Step 5: Save the processed train and test datasets to new CSV files\n",
    "    with open(\"data/5hosts_and_10hosts_train_data.csv\", \"w\", newline=\"\") as file:\n",
    "        writer = csv.writer(file)\n",
    "        writer.writerows(train_data)\n",
    "\n",
    "    with open(\"data/5hosts_and_10hosts_test_data.csv\", \"w\", newline=\"\") as file:\n",
    "        writer = csv.writer(file)\n",
    "        writer.writerows(test_data)\n",
    "\n",
    "    print(\"Training and testing datasets have been saved.\")"
   ]
  },
  {
   "cell_type": "code",
   "execution_count": 3,
   "metadata": {},
   "outputs": [
    {
     "name": "stdout",
     "output_type": "stream",
     "text": [
      "Training and testing datasets have been saved.\n"
     ]
    }
   ],
   "source": [
    "preprocess_data()"
   ]
  }
 ],
 "metadata": {
  "kernelspec": {
   "display_name": "usr",
   "language": "python",
   "name": "python3"
  },
  "language_info": {
   "codemirror_mode": {
    "name": "ipython",
    "version": 3
   },
   "file_extension": ".py",
   "mimetype": "text/x-python",
   "name": "python",
   "nbconvert_exporter": "python",
   "pygments_lexer": "ipython3",
   "version": "3.10.12"
  }
 },
 "nbformat": 4,
 "nbformat_minor": 2
}
