{
 "cells": [
  {
   "cell_type": "code",
   "execution_count": 3,
   "metadata": {},
   "outputs": [],
   "source": [
    "import csv\n",
    "import torch\n",
    "import torch.nn as nn\n",
    "import torch.optim as optim\n",
    "from torch.utils.data import DataLoader, Dataset, random_split\n",
    "import numpy as np\n",
    "from rich.progress import Progress\n",
    "from tqdm import tqdm"
   ]
  },
  {
   "cell_type": "code",
   "execution_count": 4,
   "metadata": {},
   "outputs": [],
   "source": [
    "class TransformerEncoderLatentSpace(nn.Module):\n",
    "    def __init__(self, input_dim, latent_dim, num_heads, num_layers, dropout=0.1):\n",
    "        \"\"\"\n",
    "        Transformer-based model to learn a latent space.\n",
    "\n",
    "        Parameters:\n",
    "        - input_dim (int): Dimension of the input features.\n",
    "        - latent_dim (int): Dimension of the latent space.\n",
    "        - num_heads (int): Number of attention heads in each Transformer layer.\n",
    "        - num_layers (int): Number of Transformer layers in the encoder.\n",
    "        - dropout (float): Dropout probability.\n",
    "        \"\"\"\n",
    "        super(TransformerEncoderLatentSpace, self).__init__()\n",
    "\n",
    "        self.input_dim = input_dim\n",
    "        self.latent_dim = latent_dim\n",
    "\n",
    "        # Positional Encoding\n",
    "        self.positional_encoding = nn.Parameter(\n",
    "            torch.zeros(1, 1000, input_dim)\n",
    "        )  # Assume max 1000 sequence length\n",
    "\n",
    "        # Transformer Encoder\n",
    "        encoder_layer = nn.TransformerEncoderLayer(\n",
    "            d_model=input_dim, nhead=num_heads, dropout=dropout\n",
    "        )\n",
    "        self.transformer_encoder = nn.TransformerEncoder(\n",
    "            encoder_layer, num_layers=num_layers\n",
    "        )\n",
    "\n",
    "        # Projection to Latent Space\n",
    "        self.to_latent = nn.Linear(input_dim, latent_dim)\n",
    "\n",
    "    def forward(self, x):\n",
    "        \"\"\"\n",
    "        Forward pass through the Transformer encoder.\n",
    "\n",
    "        Parameters:\n",
    "        - x (torch.Tensor): Input tensor of shape (batch_size, sequence_length, input_dim).\n",
    "\n",
    "        Returns:\n",
    "        - torch.Tensor: Latent space representation of shape (batch_size, latent_dim).\n",
    "        \"\"\"\n",
    "        # Add positional encoding\n",
    "        seq_len = x.size(1)\n",
    "        x = x + self.positional_encoding[:, :seq_len, :]\n",
    "\n",
    "        # Permute to match Transformer expected input shape (seq_len, batch_size, input_dim)\n",
    "        x = x.permute(1, 0, 2)\n",
    "\n",
    "        # Pass through Transformer Encoder\n",
    "        encoded = self.transformer_encoder(x)\n",
    "\n",
    "        # Take the mean of encoded representations across the sequence dimension\n",
    "        encoded_mean = encoded.mean(dim=0)\n",
    "\n",
    "        # Project to latent space\n",
    "        latent_representation = self.to_latent(encoded_mean)\n",
    "\n",
    "        return latent_representation\n"
   ]
  },
  {
   "cell_type": "code",
   "execution_count": 5,
   "metadata": {},
   "outputs": [],
   "source": [
    "# Custom dataset class to handle CSV input and padding\n",
    "class TreeDataset(Dataset):\n",
    "    def __init__(self, csv_file, padding_length=161):\n",
    "        # Load data from CSV\n",
    "        self.padding_length = padding_length\n",
    "        self.data = self._load_csv(csv_file)\n",
    "\n",
    "    def _min_max_normalize(self, array, min_val=0, max_val=100):\n",
    "        \"\"\"\n",
    "        Normalize array to the range [0, 1] based on given min_val and max_val.\n",
    "        \"\"\"\n",
    "        array = np.array(array, dtype=np.float32)\n",
    "        return (array - min_val) / (max_val - min_val)\n",
    "\n",
    "    def _load_csv(self, csv_file):\n",
    "        \"\"\"Read CSV file using Python's built-in csv module.\"\"\"\n",
    "        data = []\n",
    "        with open(csv_file, \"r\") as csvfile:\n",
    "            reader = csv.reader(csvfile)\n",
    "            with Progress() as progress:\n",
    "                task = progress.add_task(\n",
    "                    \"[cyan]Processing CSV...\", total=sum(1 for _ in csvfile)\n",
    "                )  # Total rows in file\n",
    "                csvfile.seek(0)  # Reset file pointer\n",
    "\n",
    "                for row in reader:\n",
    "                    row = list(map(int, row))\n",
    "                    normalized_row = self._min_max_normalize(row)\n",
    "                    data.append(normalized_row)\n",
    "                    # Update progress bar\n",
    "                    progress.update(task, advance=1)\n",
    "        return data\n",
    "\n",
    "    def __len__(self):\n",
    "        \"\"\"Return the length of the dataset (number of rows).\"\"\"\n",
    "        return len(self.data)\n",
    "\n",
    "    def __getitem__(self, idx):\n",
    "        \"\"\"Retrieve a single data point from the dataset.\"\"\"\n",
    "        return self.data[idx]"
   ]
  },
  {
   "cell_type": "code",
   "execution_count": 6,
   "metadata": {},
   "outputs": [],
   "source": [
    "def set_seed_for_everything(seed=42):\n",
    "    np.random.seed(seed)\n",
    "    torch.manual_seed(seed)\n",
    "    torch.cuda.manual_seed(seed)\n",
    "    torch.backends.cudnn.deterministic = True\n",
    "    torch.backends.cudnn.benchmark = False"
   ]
  },
  {
   "cell_type": "code",
   "execution_count": 7,
   "metadata": {},
   "outputs": [],
   "source": [
    "def train_model(model, criterion, optimizer, epochs, train_loader):\n",
    "    print(f\"Training the Autoencoder, Total epochs: {epochs}\")\n",
    "    for epoch in range(epochs):\n",
    "        model.train()\n",
    "        epoch_loss = 0\n",
    "        epoch_rmse = 0\n",
    "        total_samples = 0\n",
    "        for batch in tqdm(\n",
    "            train_loader, desc=f\"Epoch [{epoch+1}/{epochs}]\", unit=\"batch\"\n",
    "        ):\n",
    "            optimizer.zero_grad()\n",
    "            _, reconstructed = model(batch)\n",
    "            loss = criterion(reconstructed, batch)  # Reconstruction loss\n",
    "            loss.backward()\n",
    "            optimizer.step()\n",
    "\n",
    "            # Accumulate loss\n",
    "            batch_size = batch.size(0)\n",
    "            total_samples += batch_size\n",
    "            epoch_loss += loss.item() * batch_size  # Weighted by batch size\n",
    "\n",
    "            # Calculate and accumulate RMSE\n",
    "            rmse = torch.sqrt(loss)  # RMSE = sqrt(MSE)\n",
    "            epoch_rmse += rmse.item() * batch_size  # Weighted by batch size\n",
    "\n",
    "        # Compute average loss and RMSE over all samples\n",
    "        epoch_loss /= total_samples\n",
    "        epoch_rmse /= total_samples\n",
    "\n",
    "        print(\n",
    "            f\"Epoch [{epoch+1}/{epochs}], Loss: {epoch_loss:.6f}, RMSE: {epoch_rmse:.6f}\"\n",
    "        )"
   ]
  },
  {
   "cell_type": "code",
   "execution_count": 8,
   "metadata": {},
   "outputs": [],
   "source": [
    "def validate_model(model, criterion, val_loader):\n",
    "    ###\n",
    "    # Validate the model\n",
    "    ###\n",
    "    model.eval()\n",
    "    val_loss = 0\n",
    "    val_rmse = 0\n",
    "    total_samples = 0\n",
    "    latent_representations = []\n",
    "    with torch.no_grad():\n",
    "        for batch in tqdm(val_loader, desc=\"Validating...\", unit=\"batch\"):\n",
    "            latent, reconstructed = model(batch)\n",
    "            loss = criterion(reconstructed, batch)\n",
    "            batch_size = batch.size(0)\n",
    "            total_samples += batch_size\n",
    "            val_loss += loss.item() * batch_size\n",
    "\n",
    "            latent_representations.append(latent)\n",
    "\n",
    "            rmse = torch.sqrt(loss)\n",
    "            val_rmse += rmse.item() * batch_size\n",
    "\n",
    "    val_loss /= total_samples\n",
    "    val_rmse /= total_samples\n",
    "\n",
    "    latent_representations = torch.cat(latent_representations).numpy()\n",
    "    print(f\"Latent representations shape: {latent_representations.shape}\")\n",
    "    print(f\"Validation Loss: {val_loss:.6f}, Validation RMSE: {val_rmse:.6f}\")\n",
    "    return val_rmse"
   ]
  },
  {
   "cell_type": "code",
   "execution_count": 10,
   "metadata": {},
   "outputs": [
    {
     "data": {
      "application/vnd.jupyter.widget-view+json": {
       "model_id": "847030f0d2964eaea6a73f146cffef77",
       "version_major": 2,
       "version_minor": 0
      },
      "text/plain": [
       "Output()"
      ]
     },
     "metadata": {},
     "output_type": "display_data"
    },
    {
     "name": "stdout",
     "output_type": "stream",
     "text": [
      "Using device: cuda\n"
     ]
    },
    {
     "data": {
      "text/html": [
       "<pre style=\"white-space:pre;overflow-x:auto;line-height:normal;font-family:Menlo,'DejaVu Sans Mono',consolas,'Courier New',monospace\"></pre>\n"
      ],
      "text/plain": []
     },
     "metadata": {},
     "output_type": "display_data"
    },
    {
     "name": "stdout",
     "output_type": "stream",
     "text": [
      "Dataset size: 851229\n",
      "Train size: 680983\n",
      "Validation size: 170246\n"
     ]
    }
   ],
   "source": [
    "device = torch.device(\"cuda\" if torch.cuda.is_available() else \"cpu\")\n",
    "print(f\"Using device: {device}\")\n",
    "\n",
    "set_seed_for_everything(seed=1234)\n",
    "\n",
    "# Load dataset\n",
    "csv_file = \"data/train_data.csv\"  # Replace with your CSV file path\n",
    "dataset = TreeDataset(csv_file)\n",
    "print(f\"Dataset size: {len(dataset)}\")\n",
    "train_size = int(0.8 * len(dataset))\n",
    "print(f\"Train size: {train_size}\")\n",
    "val_size = len(dataset) - train_size\n",
    "print(f\"Validation size: {val_size}\")\n",
    "train_dataset, val_dataset = random_split(dataset, [train_size, val_size])\n",
    "\n",
    "train_loader = DataLoader(train_dataset, batch_size=32, shuffle=True)\n",
    "val_loader = DataLoader(val_dataset, batch_size=32, shuffle=False)"
   ]
  },
  {
   "cell_type": "code",
   "execution_count": 16,
   "metadata": {},
   "outputs": [],
   "source": [
    "def pad_to_divisible(tensor, divisor):\n",
    "    \"\"\"\n",
    "    Pads the last dimension of the tensor to make it divisible by the divisor.\n",
    "\n",
    "    Args:\n",
    "        tensor (torch.Tensor): Input tensor of shape (..., input_dim).\n",
    "        divisor (int): The divisor to make the last dimension divisible by.\n",
    "\n",
    "    Returns:\n",
    "        torch.Tensor: Padded tensor.\n",
    "    \"\"\"\n",
    "    input_dim = tensor.shape[-1]\n",
    "    target_dim = (\n",
    "        torch.ceil(input_dim / divisor) * divisor\n",
    "    )  # Find the nearest divisible value\n",
    "    padding = target_dim - input_dim  # Calculate required padding\n",
    "\n",
    "    if padding > 0:\n",
    "        # Apply padding to the last dimension\n",
    "        padded_tensor = torch.nn.functional.pad(tensor, (0, padding))\n",
    "        return padded_tensor, target_dim\n",
    "    else:\n",
    "        return tensor, input_dim\n"
   ]
  },
  {
   "cell_type": "code",
   "execution_count": null,
   "metadata": {},
   "outputs": [
    {
     "name": "stderr",
     "output_type": "stream",
     "text": [
      "/home/taslanidis/.local/lib/python3.10/site-packages/torch/nn/modules/transformer.py:379: UserWarning: enable_nested_tensor is True, but self.use_nested_tensor is False because encoder_layer.self_attn.batch_first was not True(use batch_first for better inference performance)\n",
      "  warnings.warn(\n"
     ]
    },
    {
     "name": "stdout",
     "output_type": "stream",
     "text": [
      "Training the Autoencoder, Total epochs: 10\n"
     ]
    },
    {
     "name": "stderr",
     "output_type": "stream",
     "text": [
      "Epoch [1/10]:   0%|          | 0/21281 [00:00<?, ?batch/s]\n"
     ]
    },
    {
     "ename": "RuntimeError",
     "evalue": "The size of tensor a (32) must match the size of tensor b (161) at non-singleton dimension 1",
     "output_type": "error",
     "traceback": [
      "\u001b[0;31m---------------------------------------------------------------------------\u001b[0m",
      "\u001b[0;31mRuntimeError\u001b[0m                              Traceback (most recent call last)",
      "Cell \u001b[0;32mIn[19], line 29\u001b[0m\n\u001b[1;32m     26\u001b[0m optimizer \u001b[38;5;241m=\u001b[39m optim\u001b[38;5;241m.\u001b[39mAdam(model\u001b[38;5;241m.\u001b[39mparameters(), lr\u001b[38;5;241m=\u001b[39mlr, weight_decay\u001b[38;5;241m=\u001b[39mweight_decay)\n\u001b[1;32m     28\u001b[0m \u001b[38;5;66;03m# Train the model\u001b[39;00m\n\u001b[0;32m---> 29\u001b[0m \u001b[43mtrain_model\u001b[49m\u001b[43m(\u001b[49m\u001b[43mmodel\u001b[49m\u001b[43m,\u001b[49m\u001b[43m \u001b[49m\u001b[43mcriterion\u001b[49m\u001b[43m,\u001b[49m\u001b[43m \u001b[49m\u001b[43moptimizer\u001b[49m\u001b[43m,\u001b[49m\u001b[43m \u001b[49m\u001b[43mepochs\u001b[49m\u001b[43m,\u001b[49m\u001b[43m \u001b[49m\u001b[43mtrain_loader\u001b[49m\u001b[43m)\u001b[49m\n\u001b[1;32m     31\u001b[0m \u001b[38;5;66;03m# Validate the model\u001b[39;00m\n\u001b[1;32m     32\u001b[0m rmse \u001b[38;5;241m=\u001b[39m validate_model(model, criterion, val_loader)\n",
      "Cell \u001b[0;32mIn[7], line 12\u001b[0m, in \u001b[0;36mtrain_model\u001b[0;34m(model, criterion, optimizer, epochs, train_loader)\u001b[0m\n\u001b[1;32m      8\u001b[0m \u001b[38;5;28;01mfor\u001b[39;00m batch \u001b[38;5;129;01min\u001b[39;00m tqdm(\n\u001b[1;32m      9\u001b[0m     train_loader, desc\u001b[38;5;241m=\u001b[39m\u001b[38;5;124mf\u001b[39m\u001b[38;5;124m\"\u001b[39m\u001b[38;5;124mEpoch [\u001b[39m\u001b[38;5;132;01m{\u001b[39;00mepoch\u001b[38;5;241m+\u001b[39m\u001b[38;5;241m1\u001b[39m\u001b[38;5;132;01m}\u001b[39;00m\u001b[38;5;124m/\u001b[39m\u001b[38;5;132;01m{\u001b[39;00mepochs\u001b[38;5;132;01m}\u001b[39;00m\u001b[38;5;124m]\u001b[39m\u001b[38;5;124m\"\u001b[39m, unit\u001b[38;5;241m=\u001b[39m\u001b[38;5;124m\"\u001b[39m\u001b[38;5;124mbatch\u001b[39m\u001b[38;5;124m\"\u001b[39m\n\u001b[1;32m     10\u001b[0m ):\n\u001b[1;32m     11\u001b[0m     optimizer\u001b[38;5;241m.\u001b[39mzero_grad()\n\u001b[0;32m---> 12\u001b[0m     _, reconstructed \u001b[38;5;241m=\u001b[39m \u001b[43mmodel\u001b[49m\u001b[43m(\u001b[49m\u001b[43mbatch\u001b[49m\u001b[43m)\u001b[49m\n\u001b[1;32m     13\u001b[0m     loss \u001b[38;5;241m=\u001b[39m criterion(reconstructed, batch)  \u001b[38;5;66;03m# Reconstruction loss\u001b[39;00m\n\u001b[1;32m     14\u001b[0m     loss\u001b[38;5;241m.\u001b[39mbackward()\n",
      "File \u001b[0;32m~/.local/lib/python3.10/site-packages/torch/nn/modules/module.py:1736\u001b[0m, in \u001b[0;36mModule._wrapped_call_impl\u001b[0;34m(self, *args, **kwargs)\u001b[0m\n\u001b[1;32m   1734\u001b[0m     \u001b[38;5;28;01mreturn\u001b[39;00m \u001b[38;5;28mself\u001b[39m\u001b[38;5;241m.\u001b[39m_compiled_call_impl(\u001b[38;5;241m*\u001b[39margs, \u001b[38;5;241m*\u001b[39m\u001b[38;5;241m*\u001b[39mkwargs)  \u001b[38;5;66;03m# type: ignore[misc]\u001b[39;00m\n\u001b[1;32m   1735\u001b[0m \u001b[38;5;28;01melse\u001b[39;00m:\n\u001b[0;32m-> 1736\u001b[0m     \u001b[38;5;28;01mreturn\u001b[39;00m \u001b[38;5;28;43mself\u001b[39;49m\u001b[38;5;241;43m.\u001b[39;49m\u001b[43m_call_impl\u001b[49m\u001b[43m(\u001b[49m\u001b[38;5;241;43m*\u001b[39;49m\u001b[43margs\u001b[49m\u001b[43m,\u001b[49m\u001b[43m \u001b[49m\u001b[38;5;241;43m*\u001b[39;49m\u001b[38;5;241;43m*\u001b[39;49m\u001b[43mkwargs\u001b[49m\u001b[43m)\u001b[49m\n",
      "File \u001b[0;32m~/.local/lib/python3.10/site-packages/torch/nn/modules/module.py:1747\u001b[0m, in \u001b[0;36mModule._call_impl\u001b[0;34m(self, *args, **kwargs)\u001b[0m\n\u001b[1;32m   1742\u001b[0m \u001b[38;5;66;03m# If we don't have any hooks, we want to skip the rest of the logic in\u001b[39;00m\n\u001b[1;32m   1743\u001b[0m \u001b[38;5;66;03m# this function, and just call forward.\u001b[39;00m\n\u001b[1;32m   1744\u001b[0m \u001b[38;5;28;01mif\u001b[39;00m \u001b[38;5;129;01mnot\u001b[39;00m (\u001b[38;5;28mself\u001b[39m\u001b[38;5;241m.\u001b[39m_backward_hooks \u001b[38;5;129;01mor\u001b[39;00m \u001b[38;5;28mself\u001b[39m\u001b[38;5;241m.\u001b[39m_backward_pre_hooks \u001b[38;5;129;01mor\u001b[39;00m \u001b[38;5;28mself\u001b[39m\u001b[38;5;241m.\u001b[39m_forward_hooks \u001b[38;5;129;01mor\u001b[39;00m \u001b[38;5;28mself\u001b[39m\u001b[38;5;241m.\u001b[39m_forward_pre_hooks\n\u001b[1;32m   1745\u001b[0m         \u001b[38;5;129;01mor\u001b[39;00m _global_backward_pre_hooks \u001b[38;5;129;01mor\u001b[39;00m _global_backward_hooks\n\u001b[1;32m   1746\u001b[0m         \u001b[38;5;129;01mor\u001b[39;00m _global_forward_hooks \u001b[38;5;129;01mor\u001b[39;00m _global_forward_pre_hooks):\n\u001b[0;32m-> 1747\u001b[0m     \u001b[38;5;28;01mreturn\u001b[39;00m \u001b[43mforward_call\u001b[49m\u001b[43m(\u001b[49m\u001b[38;5;241;43m*\u001b[39;49m\u001b[43margs\u001b[49m\u001b[43m,\u001b[49m\u001b[43m \u001b[49m\u001b[38;5;241;43m*\u001b[39;49m\u001b[38;5;241;43m*\u001b[39;49m\u001b[43mkwargs\u001b[49m\u001b[43m)\u001b[49m\n\u001b[1;32m   1749\u001b[0m result \u001b[38;5;241m=\u001b[39m \u001b[38;5;28;01mNone\u001b[39;00m\n\u001b[1;32m   1750\u001b[0m called_always_called_hooks \u001b[38;5;241m=\u001b[39m \u001b[38;5;28mset\u001b[39m()\n",
      "Cell \u001b[0;32mIn[4], line 46\u001b[0m, in \u001b[0;36mTransformerEncoderLatentSpace.forward\u001b[0;34m(self, x)\u001b[0m\n\u001b[1;32m     44\u001b[0m \u001b[38;5;66;03m# Add positional encoding\u001b[39;00m\n\u001b[1;32m     45\u001b[0m seq_len \u001b[38;5;241m=\u001b[39m x\u001b[38;5;241m.\u001b[39msize(\u001b[38;5;241m1\u001b[39m)\n\u001b[0;32m---> 46\u001b[0m x \u001b[38;5;241m=\u001b[39m \u001b[43mx\u001b[49m\u001b[43m \u001b[49m\u001b[38;5;241;43m+\u001b[39;49m\u001b[43m \u001b[49m\u001b[38;5;28;43mself\u001b[39;49m\u001b[38;5;241;43m.\u001b[39;49m\u001b[43mpositional_encoding\u001b[49m\u001b[43m[\u001b[49m\u001b[43m:\u001b[49m\u001b[43m,\u001b[49m\u001b[43m \u001b[49m\u001b[43m:\u001b[49m\u001b[43mseq_len\u001b[49m\u001b[43m,\u001b[49m\u001b[43m \u001b[49m\u001b[43m:\u001b[49m\u001b[43m]\u001b[49m\n\u001b[1;32m     48\u001b[0m \u001b[38;5;66;03m# Permute to match Transformer expected input shape (seq_len, batch_size, input_dim)\u001b[39;00m\n\u001b[1;32m     49\u001b[0m x \u001b[38;5;241m=\u001b[39m x\u001b[38;5;241m.\u001b[39mpermute(\u001b[38;5;241m1\u001b[39m, \u001b[38;5;241m0\u001b[39m, \u001b[38;5;241m2\u001b[39m)\n",
      "\u001b[0;31mRuntimeError\u001b[0m: The size of tensor a (32) must match the size of tensor b (161) at non-singleton dimension 1"
     ]
    }
   ],
   "source": [
    "input_dim = 161  # Number of features\n",
    "criterion = nn.MSELoss()\n",
    "\n",
    "# Track best configuration\n",
    "best_val_rmse = float(\"inf\")\n",
    "best_params = {}\n",
    "best_model = None\n",
    "\n",
    "# Define hyperparameters\n",
    "lr = 0.001\n",
    "weight_decay = 0\n",
    "dropout = 0\n",
    "latent_dim = 16\n",
    "num_heads = 8  # Number of attention heads\n",
    "num_layers = 4  # Number of Transformer layers\n",
    "use_batch_norm = True\n",
    "epochs = 10\n",
    "\n",
    "model = TransformerEncoderLatentSpace(\n",
    "    input_dim=input_dim,\n",
    "    latent_dim=latent_dim,\n",
    "    num_heads=num_heads,\n",
    "    num_layers=num_layers,\n",
    "    dropout=dropout,\n",
    ")\n",
    "optimizer = optim.Adam(model.parameters(), lr=lr, weight_decay=weight_decay)\n",
    "\n",
    "# Train the model\n",
    "train_model(model, criterion, optimizer, epochs, train_loader)\n",
    "\n",
    "# Validate the model\n",
    "rmse = validate_model(model, criterion, val_loader)"
   ]
  }
 ],
 "metadata": {
  "kernelspec": {
   "display_name": "Python 3",
   "language": "python",
   "name": "python3"
  },
  "language_info": {
   "codemirror_mode": {
    "name": "ipython",
    "version": 3
   },
   "file_extension": ".py",
   "mimetype": "text/x-python",
   "name": "python",
   "nbconvert_exporter": "python",
   "pygments_lexer": "ipython3",
   "version": "3.10.12"
  }
 },
 "nbformat": 4,
 "nbformat_minor": 2
}
